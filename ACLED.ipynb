{
 "cells": [
  {
   "cell_type": "markdown",
   "id": "2bea9eb4-c5cf-479e-86b9-7bfee4e36347",
   "metadata": {},
   "source": [
    "## Supervised Link Prediction with the Armed Conflict Location Event Database\n",
    "In this notebook, I will be turning relational data from the Armed Conflict Location & Event Data Project and turning it into several \"Conflict\" Undirected Graphs/Networks."
   ]
  },
  {
   "cell_type": "code",
   "execution_count": 203,
   "id": "55c45c59-53ad-48cb-bcf8-13fa5dc36f05",
   "metadata": {},
   "outputs": [],
   "source": [
    "\n",
    "import sys\n",
    "from collections import OrderedDict\n",
    "from itertools import product\n",
    "from functools import reduce\n",
    "import pandas as pd\n",
    "import time\n",
    "present = True\n",
    "import numpy as np\n",
    "import re\n",
    "from networkx import Graph\n",
    "from functools import reduce, lru_cache\n",
    "import networkx as nx\n",
    "from joblib import dump, load\n",
    "from sklearn.utils import resample\n",
    "from itertools import product\n",
    "from imblearn.ensemble import BalancedRandomForestClassifier\n",
    "from sklearn.metrics import confusion_matrix, recall_score, f1_score"
   ]
  },
  {
   "cell_type": "markdown",
   "id": "eadf20a9-28ce-4661-839f-fdee59297a3d",
   "metadata": {},
   "source": [
    "### Data Cleaning Functions"
   ]
  },
  {
   "cell_type": "code",
   "execution_count": 204,
   "id": "c05907ae-13f9-4ff8-b141-276a9402ee22",
   "metadata": {},
   "outputs": [],
   "source": [
    "def load_data(path):\n",
    "    data = pd.read_csv(path, index_col=\"data_id\")\n",
    "    data[\"event_date\"] = pd.to_datetime(data[\"event_date\"])\n",
    "    return data\n",
    "\n",
    "\n",
    "def load_interaction_codes(path):\n",
    "    data = pd.read_csv(path)\n",
    "    return data\n"
   ]
  },
  {
   "cell_type": "markdown",
   "id": "ee50bf8f-f74b-4766-8077-cd4f887dad21",
   "metadata": {},
   "source": [
    "### Data Reading Functions"
   ]
  },
  {
   "cell_type": "code",
   "execution_count": 205,
   "id": "a4764aa1-1f85-4d5e-b569-0f22263eaf5e",
   "metadata": {},
   "outputs": [],
   "source": [
    "def rename_category_columns(actor_category_df):\n",
    "    return actor_category_df\\\n",
    "        .rename(columns={'Category_x': 'actor1_category'})\\\n",
    "        .rename(columns={'Category_y': 'actor2_category'})\n",
    "\n",
    "\n",
    "def get_actor_categories(conflict_df, interaction_lookup):\n",
    "    actor_category_df = conflict_df.copy\n",
    "    actor_category_df = conflict_df\\\n",
    "                            .merge(interaction_lookup, \n",
    "                                   left_on=\"inter1\", \n",
    "                                   right_on=\"code\")\\\n",
    "                            .merge(interaction_lookup, \n",
    "                                   left_on=\"inter2\", \n",
    "                                   right_on=\"code\")\n",
    "    return rename_category_columns(actor_category_df)\n",
    "\n",
    "\n",
    "def subset_columns(conflict_df):\n",
    "    return conflict_df[[\"event_date\",\n",
    "                        \"country\",\n",
    "                        \"actor1\",\n",
    "                        \"actor1_category\",\n",
    "                        \"actor2\",\n",
    "                        \"actor2_category\"]]\n",
    "\n",
    "\n",
    "def get_country(string, countries):\n",
    "    for country in countries:\n",
    "        if country in string:\n",
    "            return country\n",
    "\n",
    "def country_extractor(conflict_df, countries):\n",
    "    df = conflict_df.copy()\n",
    "    df[\"actor1_country_temp\"] = df[\"actor1\"]\\\n",
    "        .apply(lambda x: get_country(x, countries))\n",
    "    df[\"actor2_country_temp\"] = df[\"actor2\"]\\\n",
    "        .apply(lambda x: get_country(x, countries))\n",
    "\n",
    "    df[\"actor1_country\"] = np.where(df[\"actor1_country_temp\"].isnull(),\n",
    "                                    df[\"country\"],\n",
    "                                    df[\"actor1_country_temp\"])\n",
    "\n",
    "    df[\"actor2_country\"] = np.where(df[\"actor2_country_temp\"].isnull(),\n",
    "                                    df[\"country\"],\n",
    "                                    df[\"actor2_country_temp\"])\n",
    "\n",
    "    return df[[\"event_date\", \"country\", \n",
    "               \"actor1\", \"actor1_country\", \"actor1_category\", \n",
    "               \"actor2\", \"actor2_country\", \"actor2_category\"]]\n"
   ]
  },
  {
   "cell_type": "markdown",
   "id": "d18d1bcc-fd75-4b1f-bdf2-68c7b4c72666",
   "metadata": {},
   "source": [
    "### Feature Engineering Functions"
   ]
  },
  {
   "cell_type": "code",
   "execution_count": 206,
   "id": "f2a90d7a-850c-4a65-83e7-103f9be7dd7e",
   "metadata": {},
   "outputs": [],
   "source": [
    "def create_agents(conflict_df):\n",
    "    df = conflict_df.copy()\n",
    "\n",
    "    df['agent1'] = df['actor1_category'] + '-' + df['actor1_country']\n",
    "    df['agent2'] = df['actor2_category'] + '-' + df['actor1_country']\n",
    "\n",
    "    return df[[\"event_date\", \"agent1\", \"agent2\"]]\n",
    "\n",
    "\n",
    "def get_month(conflict_df):\n",
    "    df = conflict_df.copy()\n",
    "    df[\"period\"] = df.event_date.dt.year.astype(str)\\\n",
    "      + \"-\" + df.event_date.dt.month.astype(str)\n",
    "    return df\n"
   ]
  },
  {
   "cell_type": "markdown",
   "id": "3bfc4d6f-3967-4a60-ac5f-2ae7ca6d00e5",
   "metadata": {},
   "source": [
    "### Conflict Graph Function"
   ]
  },
  {
   "cell_type": "code",
   "execution_count": 207,
   "id": "4b8bac74-65a4-479e-8aed-fb0c7757e3ce",
   "metadata": {},
   "outputs": [],
   "source": [
    "class ConflictGraph(Graph):\n",
    "\n",
    "\n",
    "    def __init__(self, categories, countries, period):\n",
    "        super().__init__()\n",
    "        self.categories = categories\n",
    "        self.countries = countries\n",
    "        self.period = period\n",
    "\n",
    "    def __sort_tuple(self, tup):\n",
    "        return tuple(sorted(tup))\n",
    "\n",
    "    @lru_cache(maxsize=2)\n",
    "    def __create_all_possible_nodes(self):\n",
    "        return [(x + '-' + y) for x in self.categories for y in self.countries]\n",
    "\n",
    "    @lru_cache(maxsize=2)\n",
    "    def __get_node_countries(self):\n",
    "        return {x + '-' + y: y for x in self.categories\n",
    "                for y in self.countries}\n",
    "\n",
    "    @lru_cache(maxsize=2)\n",
    "    def __create_all_possible_edges(self):\n",
    "        # Get all nodes for each timestep\n",
    "        all_potential_nodes = self.__create_all_possible_nodes()\n",
    "        # Create all possible combinations of nodes as tuples\n",
    "        all_possible_conflicts = ((x, y) for x in all_potential_nodes\n",
    "                                  for y in all_potential_nodes)\n",
    "        # Order each tuple\n",
    "        all_possible_conflicts_ordered = [self.__sort_tuple(edge) for edge\n",
    "                                          in all_possible_conflicts]\n",
    "        # Drop duplicate tuples\n",
    "        all_possible_conflicts_no_dups = set(all_possible_conflicts_ordered)\n",
    "\n",
    "        # Convert to dataframe\n",
    "        all_possible_edges = pd.DataFrame(all_possible_conflicts_no_dups)\n",
    "        all_possible_edges.columns = ['agent1', 'agent2']\n",
    "\n",
    "        return all_possible_edges\n",
    "\n",
    "    def __create_edges(self):\n",
    "\n",
    "        if len(self.conflicts) == 0:\n",
    "            return []\n",
    "\n",
    "        edges = self.conflicts.copy()\n",
    "        edges = edges.groupby(['agent1', 'agent2'])\\\n",
    "                     .first()\\\n",
    "                     .reset_index()\n",
    "\n",
    "        # Return as list of tuples\n",
    "        return edges[[\"agent1\", \"agent2\"]]\\\n",
    "            .to_records(index=False)\\\n",
    "            .tolist()\n",
    "\n",
    "    @lru_cache(maxsize=12)\n",
    "    def get_edge_labels(self):\n",
    "\n",
    "        all_possible_edges = self.__create_all_possible_edges()\n",
    "\n",
    "        positive_edges = pd.DataFrame(self.__create_edges())\n",
    "        positive_edges.columns = [\"agent1\", \"agent2\"]\n",
    "\n",
    "        # Edges that exist get a label of 1\n",
    "        positive_edges[\"target\"] = 1\n",
    "\n",
    "        # Join on all possible edges, those with no match, get a 0 label\n",
    "        edges = positive_edges.merge(all_possible_edges,\n",
    "                                     how=\"right\",\n",
    "                                     on=[\"agent1\", \"agent2\"])\\\n",
    "                              .fillna(0)\n",
    "\n",
    "        edges[\"period\"] = self.period\n",
    "\n",
    "        return edges\n",
    "\n",
    "    def get_nodes(self):\n",
    "        return self.__create_all_possible_nodes()\n",
    "\n",
    "    def get_edges(self):\n",
    "        return self.__create_edges()\n",
    "\n",
    "    def _add_nodes(self):\n",
    "\n",
    "        nodes = self.__create_all_possible_nodes()\n",
    "        self.add_nodes_from(nodes)\n",
    "\n",
    "    def _set_node_attributes(self):\n",
    "        values = self.__get_node_countries()\n",
    "        nx.set_node_attributes(self, name='country', values=values)\n",
    "\n",
    "    def _add_edges(self):\n",
    "\n",
    "        edges = self.__create_edges()\n",
    "        if len(edges) == 0:\n",
    "            pass\n",
    "        else:\n",
    "            self.add_edges_from(edges)\n",
    "\n",
    "    def set_conflicts(self, conflicts):\n",
    "\n",
    "        self.conflicts = conflicts\n",
    "        self.all_possible_edges = self.__create_all_possible_edges()\\\n",
    "            .to_records(index=False)\\\n",
    "            .tolist()\n",
    "\n",
    "        self._add_nodes()\n",
    "        self._set_node_attributes()\n",
    "        self._add_edges()\n",
    "\n",
    "    def __set_suffix(self, lag=None):\n",
    "\n",
    "        suffix = \"\"\n",
    "        if lag:\n",
    "            suffix = \"_\"+str(lag)+\"periods_prev\"\n",
    "\n",
    "        return suffix\n",
    "\n",
    "    def get_preferential_attachment(self, lag=None):\n",
    "\n",
    "        suf = self.__set_suffix(lag)\n",
    "\n",
    "        metric = nx.preferential_attachment(self, self.all_possible_edges)\n",
    "        metric_df = pd.DataFrame(metric)\n",
    "        metric_df.columns = [\"agent1\", \"agent2\", \"pref_attachment\"+suf]\n",
    "        return metric_df\n",
    "\n",
    "    def get_resource_allocation(self, lag=None):\n",
    "\n",
    "        suf = self.__set_suffix(lag)\n",
    "\n",
    "        metric = nx.ra_index_soundarajan_hopcroft(self,\n",
    "                                                  self.all_possible_edges,\n",
    "                                                  community='country')\n",
    "        metric_df = pd.DataFrame(metric)\n",
    "        metric_df.columns = [\"agent1\", \"agent2\", \"resource_alloc_com\"+suf]\n",
    "        return metric_df\n",
    "\n",
    "    def get_jaccard_coefficient(self, lag=None):\n",
    "\n",
    "        suf = self.__set_suffix(lag)\n",
    "\n",
    "        metric = nx.jaccard_coefficient(self, self.all_possible_edges)\n",
    "        metric_df = pd.DataFrame(metric)\n",
    "        metric_df.columns = [\"agent1\", \"agent2\", \"jaccard_coef\"+suf]\n",
    "        return metric_df\n",
    "\n",
    "    @lru_cache(maxsize=24)\n",
    "    def get_all_metrics(self, lag=None):\n",
    "\n",
    "        pref_attachment = self.get_preferential_attachment(lag)\n",
    "        resource_allocation = self.get_resource_allocation(lag)\n",
    "        jaccard_coefficient = self.get_jaccard_coefficient(lag)\n",
    "\n",
    "        metrics = [pref_attachment, resource_allocation, jaccard_coefficient]\n",
    "\n",
    "        on = [\"agent1\", \"agent2\"]\n",
    "\n",
    "        all_metrics = reduce(\n",
    "            lambda x, y: pd.merge(x, y, how='inner', on=on), metrics)\n",
    "\n",
    "        return all_metrics\n"
   ]
  },
  {
   "cell_type": "markdown",
   "id": "ba4c3bc8-d64a-4d32-be30-971d6ef889a0",
   "metadata": {},
   "source": [
    " ### Load conflict data"
   ]
  },
  {
   "cell_type": "code",
   "execution_count": 208,
   "id": "8d61d20a-4f6e-4c5f-9d38-146e3bb099ef",
   "metadata": {},
   "outputs": [],
   "source": [
    "data = load_data('C:/Users/Owner/OneDrive/Desktop/ACLED/2000-01-01-2022-04-15-Afghanistan.csv')\n"
   ]
  },
  {
   "cell_type": "code",
   "execution_count": 209,
   "id": "e4774a68-2122-4731-b775-d7a561f4974d",
   "metadata": {},
   "outputs": [
    {
     "name": "stdout",
     "output_type": "stream",
     "text": [
      "<class 'pandas.core.frame.DataFrame'>\n",
      "Int64Index: 62243 entries, 9056716 to 8984306\n",
      "Data columns (total 30 columns):\n",
      " #   Column            Non-Null Count  Dtype         \n",
      "---  ------            --------------  -----         \n",
      " 0   iso               62243 non-null  int64         \n",
      " 1   event_id_cnty     62243 non-null  object        \n",
      " 2   event_id_no_cnty  62243 non-null  int64         \n",
      " 3   event_date        62243 non-null  datetime64[ns]\n",
      " 4   year              62243 non-null  int64         \n",
      " 5   time_precision    62243 non-null  int64         \n",
      " 6   event_type        62243 non-null  object        \n",
      " 7   sub_event_type    62243 non-null  object        \n",
      " 8   actor1            62243 non-null  object        \n",
      " 9   assoc_actor_1     3427 non-null   object        \n",
      " 10  inter1            62243 non-null  int64         \n",
      " 11  actor2            60194 non-null  object        \n",
      " 12  assoc_actor_2     4989 non-null   object        \n",
      " 13  inter2            62243 non-null  int64         \n",
      " 14  interaction       62243 non-null  int64         \n",
      " 15  region            62243 non-null  object        \n",
      " 16  country           62243 non-null  object        \n",
      " 17  admin1            62243 non-null  object        \n",
      " 18  admin2            62243 non-null  object        \n",
      " 19  admin3            0 non-null      float64       \n",
      " 20  location          62243 non-null  object        \n",
      " 21  latitude          62243 non-null  float64       \n",
      " 22  longitude         62243 non-null  float64       \n",
      " 23  geo_precision     62243 non-null  int64         \n",
      " 24  source            62243 non-null  object        \n",
      " 25  source_scale      62243 non-null  object        \n",
      " 26  notes             62243 non-null  object        \n",
      " 27  fatalities        62243 non-null  int64         \n",
      " 28  timestamp         62243 non-null  int64         \n",
      " 29  iso3              62243 non-null  object        \n",
      "dtypes: datetime64[ns](1), float64(3), int64(10), object(16)\n",
      "memory usage: 14.7+ MB\n"
     ]
    }
   ],
   "source": [
    "data.info()"
   ]
  },
  {
   "cell_type": "markdown",
   "id": "2575c078-8384-4592-9983-a04c16cf4fbc",
   "metadata": {},
   "source": [
    " #### Load lookup codes\n",
    " The lookup codes for the inter columns to match them to category type\n",
    " Each actor has an associated code which represents the type of actor that they are."
   ]
  },
  {
   "cell_type": "code",
   "execution_count": 210,
   "id": "ef245f15-89be-49c7-972c-96835c7480a7",
   "metadata": {},
   "outputs": [],
   "source": [
    "interaction_lookup = load_interaction_codes('C:/Users/owner/OneDrive/Desktop/ACLED/categorycodes.csv')"
   ]
  },
  {
   "cell_type": "code",
   "execution_count": 211,
   "id": "8d512ac7-7b74-45a0-8229-2223517156c9",
   "metadata": {},
   "outputs": [
    {
     "data": {
      "text/html": [
       "<div>\n",
       "<style scoped>\n",
       "    .dataframe tbody tr th:only-of-type {\n",
       "        vertical-align: middle;\n",
       "    }\n",
       "\n",
       "    .dataframe tbody tr th {\n",
       "        vertical-align: top;\n",
       "    }\n",
       "\n",
       "    .dataframe thead th {\n",
       "        text-align: right;\n",
       "    }\n",
       "</style>\n",
       "<table border=\"1\" class=\"dataframe\">\n",
       "  <thead>\n",
       "    <tr style=\"text-align: right;\">\n",
       "      <th></th>\n",
       "      <th>code</th>\n",
       "      <th>Category</th>\n",
       "    </tr>\n",
       "  </thead>\n",
       "  <tbody>\n",
       "    <tr>\n",
       "      <th>0</th>\n",
       "      <td>1</td>\n",
       "      <td>State Forces</td>\n",
       "    </tr>\n",
       "    <tr>\n",
       "      <th>1</th>\n",
       "      <td>2</td>\n",
       "      <td>Rebel Groups</td>\n",
       "    </tr>\n",
       "    <tr>\n",
       "      <th>2</th>\n",
       "      <td>3</td>\n",
       "      <td>Political Militias</td>\n",
       "    </tr>\n",
       "    <tr>\n",
       "      <th>3</th>\n",
       "      <td>4</td>\n",
       "      <td>Identity Militias</td>\n",
       "    </tr>\n",
       "    <tr>\n",
       "      <th>4</th>\n",
       "      <td>5</td>\n",
       "      <td>Rioters</td>\n",
       "    </tr>\n",
       "    <tr>\n",
       "      <th>5</th>\n",
       "      <td>6</td>\n",
       "      <td>Protesters</td>\n",
       "    </tr>\n",
       "    <tr>\n",
       "      <th>6</th>\n",
       "      <td>7</td>\n",
       "      <td>Civilians</td>\n",
       "    </tr>\n",
       "    <tr>\n",
       "      <th>7</th>\n",
       "      <td>8</td>\n",
       "      <td>External/Other Forces</td>\n",
       "    </tr>\n",
       "  </tbody>\n",
       "</table>\n",
       "</div>"
      ],
      "text/plain": [
       "   code               Category\n",
       "0     1           State Forces\n",
       "1     2           Rebel Groups\n",
       "2     3     Political Militias\n",
       "3     4      Identity Militias\n",
       "4     5                Rioters\n",
       "5     6             Protesters\n",
       "6     7              Civilians\n",
       "7     8  External/Other Forces"
      ]
     },
     "execution_count": 211,
     "metadata": {},
     "output_type": "execute_result"
    }
   ],
   "source": [
    "interaction_lookup"
   ]
  },
  {
   "cell_type": "markdown",
   "id": "d14ca08f-44eb-45d1-adc3-e3b0489fc2e8",
   "metadata": {},
   "source": [
    " #### Determine the set of all countries in the data set"
   ]
  },
  {
   "cell_type": "code",
   "execution_count": 212,
   "id": "5cbd0c77-81b6-4ae8-a0d8-6c83299e7d19",
   "metadata": {},
   "outputs": [],
   "source": [
    "countries = set(data.country)"
   ]
  },
  {
   "cell_type": "markdown",
   "id": "c24922ea-ead5-4211-8222-62b51d01fe7f",
   "metadata": {},
   "source": [
    " #### Define all of the possible actor countries"
   ]
  },
  {
   "cell_type": "code",
   "execution_count": 213,
   "id": "00c03c89-4add-4a1d-9b23-5c028332363d",
   "metadata": {},
   "outputs": [],
   "source": [
    "categories = list(interaction_lookup.Category)"
   ]
  },
  {
   "cell_type": "markdown",
   "id": "680487e0-1819-4b30-8ac7-f95c49c5f6fa",
   "metadata": {},
   "source": [
    "## Create a \"conflict dataframe\"\n",
    " Join the interaction lookup to each actor code in order to get the category\n",
    " of actor that they are."
   ]
  },
  {
   "cell_type": "code",
   "execution_count": 214,
   "id": "6cb57a55-5eda-4b25-8fa0-417f3fec36c1",
   "metadata": {},
   "outputs": [],
   "source": [
    "conflict_df = data.pipe(lambda x: get_actor_categories(x, interaction_lookup))\\\n",
    "    .pipe(subset_columns)\\\n",
    "    .pipe(lambda x: country_extractor(x, countries))"
   ]
  },
  {
   "cell_type": "code",
   "execution_count": 215,
   "id": "e607b693-210f-462f-9357-fa97d1e439f6",
   "metadata": {},
   "outputs": [
    {
     "data": {
      "text/html": [
       "<div>\n",
       "<style scoped>\n",
       "    .dataframe tbody tr th:only-of-type {\n",
       "        vertical-align: middle;\n",
       "    }\n",
       "\n",
       "    .dataframe tbody tr th {\n",
       "        vertical-align: top;\n",
       "    }\n",
       "\n",
       "    .dataframe thead th {\n",
       "        text-align: right;\n",
       "    }\n",
       "</style>\n",
       "<table border=\"1\" class=\"dataframe\">\n",
       "  <thead>\n",
       "    <tr style=\"text-align: right;\">\n",
       "      <th></th>\n",
       "      <th>event_date</th>\n",
       "      <th>country</th>\n",
       "      <th>actor1</th>\n",
       "      <th>actor1_country</th>\n",
       "      <th>actor1_category</th>\n",
       "      <th>actor2</th>\n",
       "      <th>actor2_country</th>\n",
       "      <th>actor2_category</th>\n",
       "    </tr>\n",
       "  </thead>\n",
       "  <tbody>\n",
       "    <tr>\n",
       "      <th>0</th>\n",
       "      <td>2022-04-08</td>\n",
       "      <td>Afghanistan</td>\n",
       "      <td>Unidentified Armed Group (Afghanistan)</td>\n",
       "      <td>Afghanistan</td>\n",
       "      <td>Political Militias</td>\n",
       "      <td>Civilians (Afghanistan)</td>\n",
       "      <td>Afghanistan</td>\n",
       "      <td>Civilians</td>\n",
       "    </tr>\n",
       "    <tr>\n",
       "      <th>1</th>\n",
       "      <td>2022-04-06</td>\n",
       "      <td>Afghanistan</td>\n",
       "      <td>Unidentified Armed Group (Afghanistan)</td>\n",
       "      <td>Afghanistan</td>\n",
       "      <td>Political Militias</td>\n",
       "      <td>Civilians (Afghanistan)</td>\n",
       "      <td>Afghanistan</td>\n",
       "      <td>Civilians</td>\n",
       "    </tr>\n",
       "    <tr>\n",
       "      <th>2</th>\n",
       "      <td>2022-04-05</td>\n",
       "      <td>Afghanistan</td>\n",
       "      <td>Unidentified Armed Group (Afghanistan)</td>\n",
       "      <td>Afghanistan</td>\n",
       "      <td>Political Militias</td>\n",
       "      <td>Civilians (Afghanistan)</td>\n",
       "      <td>Afghanistan</td>\n",
       "      <td>Civilians</td>\n",
       "    </tr>\n",
       "    <tr>\n",
       "      <th>3</th>\n",
       "      <td>2022-04-03</td>\n",
       "      <td>Afghanistan</td>\n",
       "      <td>Unidentified Armed Group (Afghanistan)</td>\n",
       "      <td>Afghanistan</td>\n",
       "      <td>Political Militias</td>\n",
       "      <td>Civilians (Afghanistan)</td>\n",
       "      <td>Afghanistan</td>\n",
       "      <td>Civilians</td>\n",
       "    </tr>\n",
       "    <tr>\n",
       "      <th>4</th>\n",
       "      <td>2022-04-01</td>\n",
       "      <td>Afghanistan</td>\n",
       "      <td>Unidentified Armed Group (Afghanistan)</td>\n",
       "      <td>Afghanistan</td>\n",
       "      <td>Political Militias</td>\n",
       "      <td>Civilians (Afghanistan)</td>\n",
       "      <td>Afghanistan</td>\n",
       "      <td>Civilians</td>\n",
       "    </tr>\n",
       "  </tbody>\n",
       "</table>\n",
       "</div>"
      ],
      "text/plain": [
       "  event_date      country                                  actor1  \\\n",
       "0 2022-04-08  Afghanistan  Unidentified Armed Group (Afghanistan)   \n",
       "1 2022-04-06  Afghanistan  Unidentified Armed Group (Afghanistan)   \n",
       "2 2022-04-05  Afghanistan  Unidentified Armed Group (Afghanistan)   \n",
       "3 2022-04-03  Afghanistan  Unidentified Armed Group (Afghanistan)   \n",
       "4 2022-04-01  Afghanistan  Unidentified Armed Group (Afghanistan)   \n",
       "\n",
       "  actor1_country     actor1_category                   actor2 actor2_country  \\\n",
       "0    Afghanistan  Political Militias  Civilians (Afghanistan)    Afghanistan   \n",
       "1    Afghanistan  Political Militias  Civilians (Afghanistan)    Afghanistan   \n",
       "2    Afghanistan  Political Militias  Civilians (Afghanistan)    Afghanistan   \n",
       "3    Afghanistan  Political Militias  Civilians (Afghanistan)    Afghanistan   \n",
       "4    Afghanistan  Political Militias  Civilians (Afghanistan)    Afghanistan   \n",
       "\n",
       "  actor2_category  \n",
       "0       Civilians  \n",
       "1       Civilians  \n",
       "2       Civilians  \n",
       "3       Civilians  \n",
       "4       Civilians  "
      ]
     },
     "execution_count": 215,
     "metadata": {},
     "output_type": "execute_result"
    }
   ],
   "source": [
    "conflict_df.head()"
   ]
  },
  {
   "cell_type": "markdown",
   "id": "a3902448-e4a5-4efd-9bbc-374dbd1881b3",
   "metadata": {},
   "source": [
    "## Create a dataframe of all realised conflicts between \"Agents\"\n",
    " This will be a dataframe of all conflicts have actually happened."
   ]
  },
  {
   "cell_type": "code",
   "execution_count": 216,
   "id": "af73acde-fabc-4d70-8385-8a28a64c133c",
   "metadata": {},
   "outputs": [],
   "source": [
    "all_realised_conflicts = conflict_df.pipe(create_agents)\\\n",
    "    .pipe(get_month)"
   ]
  },
  {
   "cell_type": "code",
   "execution_count": 217,
   "id": "ebe86420-3a68-4805-9ee6-afb290848921",
   "metadata": {},
   "outputs": [
    {
     "data": {
      "text/html": [
       "<div>\n",
       "<style scoped>\n",
       "    .dataframe tbody tr th:only-of-type {\n",
       "        vertical-align: middle;\n",
       "    }\n",
       "\n",
       "    .dataframe tbody tr th {\n",
       "        vertical-align: top;\n",
       "    }\n",
       "\n",
       "    .dataframe thead th {\n",
       "        text-align: right;\n",
       "    }\n",
       "</style>\n",
       "<table border=\"1\" class=\"dataframe\">\n",
       "  <thead>\n",
       "    <tr style=\"text-align: right;\">\n",
       "      <th></th>\n",
       "      <th>event_date</th>\n",
       "      <th>agent1</th>\n",
       "      <th>agent2</th>\n",
       "      <th>period</th>\n",
       "    </tr>\n",
       "  </thead>\n",
       "  <tbody>\n",
       "    <tr>\n",
       "      <th>0</th>\n",
       "      <td>2022-04-08</td>\n",
       "      <td>Political Militias-Afghanistan</td>\n",
       "      <td>Civilians-Afghanistan</td>\n",
       "      <td>2022-4</td>\n",
       "    </tr>\n",
       "    <tr>\n",
       "      <th>1</th>\n",
       "      <td>2022-04-06</td>\n",
       "      <td>Political Militias-Afghanistan</td>\n",
       "      <td>Civilians-Afghanistan</td>\n",
       "      <td>2022-4</td>\n",
       "    </tr>\n",
       "    <tr>\n",
       "      <th>2</th>\n",
       "      <td>2022-04-05</td>\n",
       "      <td>Political Militias-Afghanistan</td>\n",
       "      <td>Civilians-Afghanistan</td>\n",
       "      <td>2022-4</td>\n",
       "    </tr>\n",
       "    <tr>\n",
       "      <th>3</th>\n",
       "      <td>2022-04-03</td>\n",
       "      <td>Political Militias-Afghanistan</td>\n",
       "      <td>Civilians-Afghanistan</td>\n",
       "      <td>2022-4</td>\n",
       "    </tr>\n",
       "    <tr>\n",
       "      <th>4</th>\n",
       "      <td>2022-04-01</td>\n",
       "      <td>Political Militias-Afghanistan</td>\n",
       "      <td>Civilians-Afghanistan</td>\n",
       "      <td>2022-4</td>\n",
       "    </tr>\n",
       "  </tbody>\n",
       "</table>\n",
       "</div>"
      ],
      "text/plain": [
       "  event_date                          agent1                 agent2  period\n",
       "0 2022-04-08  Political Militias-Afghanistan  Civilians-Afghanistan  2022-4\n",
       "1 2022-04-06  Political Militias-Afghanistan  Civilians-Afghanistan  2022-4\n",
       "2 2022-04-05  Political Militias-Afghanistan  Civilians-Afghanistan  2022-4\n",
       "3 2022-04-03  Political Militias-Afghanistan  Civilians-Afghanistan  2022-4\n",
       "4 2022-04-01  Political Militias-Afghanistan  Civilians-Afghanistan  2022-4"
      ]
     },
     "execution_count": 217,
     "metadata": {},
     "output_type": "execute_result"
    }
   ],
   "source": [
    "all_realised_conflicts.head()"
   ]
  },
  {
   "cell_type": "markdown",
   "id": "b2ce6831-7ef7-4280-8cc0-8609492ad439",
   "metadata": {},
   "source": [
    " Define a range of monthly time periods"
   ]
  },
  {
   "cell_type": "code",
   "execution_count": 218,
   "id": "b54b22fc-7129-4683-9566-5dcf8c3a13dc",
   "metadata": {},
   "outputs": [],
   "source": [
    "periods = [str(x)+\"-\"+str(y) for x, y in\n",
    "           product(range(2017, 2022), range(1, 13))]"
   ]
  },
  {
   "cell_type": "markdown",
   "id": "4ce1588e-28df-4aeb-bb35-fb15f2d04152",
   "metadata": {},
   "source": [
    " ## Create Conflict Graphs\n",
    " For each time period, create a Conflict Graph with the conflicts that\n",
    " happened and didn't happen during that period."
   ]
  },
  {
   "cell_type": "code",
   "execution_count": 219,
   "id": "c80789b8-f3dd-4b5d-bafd-a7232528cb07",
   "metadata": {},
   "outputs": [],
   "source": [
    "def make_conflict_graphs(all_realised_conflicts, categories,\n",
    "                         countries, periods):\n",
    "\n",
    "    \"\"\"\n",
    "\n",
    "    For each time period, create a Conflict Graph with the conflicts that\n",
    "    happened and didn't happen during that period\n",
    "\n",
    "    \"\"\"\n",
    "    conflict_graphs = OrderedDict()\n",
    "    counter = 0\n",
    "\n",
    "    print('Creating Conflict Graphs....')\n",
    "\n",
    "    for period in periods:\n",
    "        counter += 1\n",
    "\n",
    "        if counter % 20 == 0:\n",
    "            print(str(counter) + \" out of \" + str(len(periods)))\n",
    "\n",
    "        conflicts = all_realised_conflicts[\n",
    "            all_realised_conflicts.period == period]\n",
    "\n",
    "        cf = ConflictGraph(categories=categories,\n",
    "                           countries=countries,\n",
    "                           period=period)\n",
    "\n",
    "        cf.set_conflicts(conflicts)\n",
    "        conflict_graphs[period] = cf\n",
    "    \n",
    "    print('Conflict Graph Creation Complete')\n",
    "\n",
    "    return conflict_graphs"
   ]
  },
  {
   "cell_type": "markdown",
   "id": "a17f42b5-7b3b-4014-9aba-3a3f57da74d9",
   "metadata": {},
   "source": [
    " Let's see what metrics have been included by taking a sample\n",
    " graph"
   ]
  },
  {
   "cell_type": "code",
   "execution_count": 220,
   "id": "23065491-1548-4096-b3bb-5e1ee1fde42e",
   "metadata": {},
   "outputs": [],
   "source": [
    "conflicts_2017_1 = all_realised_conflicts[\n",
    "    all_realised_conflicts.period == '2017-1']\n",
    "\n",
    "cf = ConflictGraph(categories=categories,\n",
    "                   countries=countries,\n",
    "                   period='0217-1')\n",
    "\n",
    "cf.set_conflicts(conflicts_2017_1)"
   ]
  },
  {
   "cell_type": "markdown",
   "id": "c3e3d241-4f61-455e-af9d-b77f7dad082c",
   "metadata": {},
   "source": [
    " Extract the jaccard coefficient, resource allocation and\n",
    " preferential attachment of each potential edge"
   ]
  },
  {
   "cell_type": "code",
   "execution_count": 221,
   "id": "5349c35d-b548-4ba2-9e0a-60520de9c40d",
   "metadata": {},
   "outputs": [
    {
     "data": {
      "text/html": [
       "<div>\n",
       "<style scoped>\n",
       "    .dataframe tbody tr th:only-of-type {\n",
       "        vertical-align: middle;\n",
       "    }\n",
       "\n",
       "    .dataframe tbody tr th {\n",
       "        vertical-align: top;\n",
       "    }\n",
       "\n",
       "    .dataframe thead th {\n",
       "        text-align: right;\n",
       "    }\n",
       "</style>\n",
       "<table border=\"1\" class=\"dataframe\">\n",
       "  <thead>\n",
       "    <tr style=\"text-align: right;\">\n",
       "      <th></th>\n",
       "      <th>agent1</th>\n",
       "      <th>agent2</th>\n",
       "      <th>pref_attachment</th>\n",
       "      <th>resource_alloc_com</th>\n",
       "      <th>jaccard_coef</th>\n",
       "    </tr>\n",
       "  </thead>\n",
       "  <tbody>\n",
       "    <tr>\n",
       "      <th>0</th>\n",
       "      <td>State Forces-Afghanistan</td>\n",
       "      <td>State Forces-Afghanistan</td>\n",
       "      <td>49</td>\n",
       "      <td>1.809524</td>\n",
       "      <td>0.833333</td>\n",
       "    </tr>\n",
       "    <tr>\n",
       "      <th>32</th>\n",
       "      <td>Rebel Groups-Afghanistan</td>\n",
       "      <td>State Forces-Afghanistan</td>\n",
       "      <td>49</td>\n",
       "      <td>0.666667</td>\n",
       "      <td>0.428571</td>\n",
       "    </tr>\n",
       "    <tr>\n",
       "      <th>8</th>\n",
       "      <td>Rebel Groups-Afghanistan</td>\n",
       "      <td>Rebel Groups-Afghanistan</td>\n",
       "      <td>49</td>\n",
       "      <td>1.809524</td>\n",
       "      <td>0.833333</td>\n",
       "    </tr>\n",
       "    <tr>\n",
       "      <th>29</th>\n",
       "      <td>Political Militias-Afghanistan</td>\n",
       "      <td>Rebel Groups-Afghanistan</td>\n",
       "      <td>42</td>\n",
       "      <td>0.642857</td>\n",
       "      <td>0.500000</td>\n",
       "    </tr>\n",
       "    <tr>\n",
       "      <th>21</th>\n",
       "      <td>Political Militias-Afghanistan</td>\n",
       "      <td>State Forces-Afghanistan</td>\n",
       "      <td>42</td>\n",
       "      <td>0.642857</td>\n",
       "      <td>0.500000</td>\n",
       "    </tr>\n",
       "  </tbody>\n",
       "</table>\n",
       "</div>"
      ],
      "text/plain": [
       "                            agent1                    agent2  pref_attachment  \\\n",
       "0         State Forces-Afghanistan  State Forces-Afghanistan               49   \n",
       "32        Rebel Groups-Afghanistan  State Forces-Afghanistan               49   \n",
       "8         Rebel Groups-Afghanistan  Rebel Groups-Afghanistan               49   \n",
       "29  Political Militias-Afghanistan  Rebel Groups-Afghanistan               42   \n",
       "21  Political Militias-Afghanistan  State Forces-Afghanistan               42   \n",
       "\n",
       "    resource_alloc_com  jaccard_coef  \n",
       "0             1.809524      0.833333  \n",
       "32            0.666667      0.428571  \n",
       "8             1.809524      0.833333  \n",
       "29            0.642857      0.500000  \n",
       "21            0.642857      0.500000  "
      ]
     },
     "execution_count": 221,
     "metadata": {},
     "output_type": "execute_result"
    }
   ],
   "source": [
    "cf.get_all_metrics()\\\n",
    "    .sort_values('pref_attachment', ascending=False)\\\n",
    "    .head()"
   ]
  },
  {
   "cell_type": "markdown",
   "id": "cd83b72f-abdd-4aec-969b-2805eed0cf92",
   "metadata": {},
   "source": [
    " Lets see what the target dataframe looks like"
   ]
  },
  {
   "cell_type": "code",
   "execution_count": 222,
   "id": "3073b0f6-5282-48a7-a529-5cf443dbfcd4",
   "metadata": {},
   "outputs": [
    {
     "data": {
      "text/html": [
       "<div>\n",
       "<style scoped>\n",
       "    .dataframe tbody tr th:only-of-type {\n",
       "        vertical-align: middle;\n",
       "    }\n",
       "\n",
       "    .dataframe tbody tr th {\n",
       "        vertical-align: top;\n",
       "    }\n",
       "\n",
       "    .dataframe thead th {\n",
       "        text-align: right;\n",
       "    }\n",
       "</style>\n",
       "<table border=\"1\" class=\"dataframe\">\n",
       "  <thead>\n",
       "    <tr style=\"text-align: right;\">\n",
       "      <th></th>\n",
       "      <th>agent1</th>\n",
       "      <th>agent2</th>\n",
       "      <th>target</th>\n",
       "      <th>period</th>\n",
       "    </tr>\n",
       "  </thead>\n",
       "  <tbody>\n",
       "    <tr>\n",
       "      <th>0</th>\n",
       "      <td>State Forces-Afghanistan</td>\n",
       "      <td>State Forces-Afghanistan</td>\n",
       "      <td>1.0</td>\n",
       "      <td>0217-1</td>\n",
       "    </tr>\n",
       "    <tr>\n",
       "      <th>29</th>\n",
       "      <td>Political Militias-Afghanistan</td>\n",
       "      <td>Rebel Groups-Afghanistan</td>\n",
       "      <td>1.0</td>\n",
       "      <td>0217-1</td>\n",
       "    </tr>\n",
       "    <tr>\n",
       "      <th>21</th>\n",
       "      <td>Political Militias-Afghanistan</td>\n",
       "      <td>State Forces-Afghanistan</td>\n",
       "      <td>1.0</td>\n",
       "      <td>0217-1</td>\n",
       "    </tr>\n",
       "    <tr>\n",
       "      <th>24</th>\n",
       "      <td>External/Other Forces-Afghanistan</td>\n",
       "      <td>Rebel Groups-Afghanistan</td>\n",
       "      <td>1.0</td>\n",
       "      <td>0217-1</td>\n",
       "    </tr>\n",
       "    <tr>\n",
       "      <th>27</th>\n",
       "      <td>Political Militias-Afghanistan</td>\n",
       "      <td>Political Militias-Afghanistan</td>\n",
       "      <td>1.0</td>\n",
       "      <td>0217-1</td>\n",
       "    </tr>\n",
       "  </tbody>\n",
       "</table>\n",
       "</div>"
      ],
      "text/plain": [
       "                               agent1                          agent2  target  \\\n",
       "0            State Forces-Afghanistan        State Forces-Afghanistan     1.0   \n",
       "29     Political Militias-Afghanistan        Rebel Groups-Afghanistan     1.0   \n",
       "21     Political Militias-Afghanistan        State Forces-Afghanistan     1.0   \n",
       "24  External/Other Forces-Afghanistan        Rebel Groups-Afghanistan     1.0   \n",
       "27     Political Militias-Afghanistan  Political Militias-Afghanistan     1.0   \n",
       "\n",
       "    period  \n",
       "0   0217-1  \n",
       "29  0217-1  \n",
       "21  0217-1  \n",
       "24  0217-1  \n",
       "27  0217-1  "
      ]
     },
     "execution_count": 222,
     "metadata": {},
     "output_type": "execute_result"
    }
   ],
   "source": [
    "cf.get_edge_labels()\\\n",
    "    .sort_values('target', ascending=False)\\\n",
    "    .head()"
   ]
  },
  {
   "cell_type": "markdown",
   "id": "ed6090d1-2580-44f6-9c3f-5ee8c698785f",
   "metadata": {},
   "source": [
    " # Feature Extraction\n",
    " The goal is: <br>\n",
    " For each 1 month window of time where conflicts have happened,I extract a dataframe where the target is whether or not a\n",
    " conflict/edge existed during that time frame and I will extract the features\n",
    " are link prediction measures about the emerging graphs up to 10 months in the past in 1 month windows"
   ]
  },
  {
   "cell_type": "code",
   "execution_count": 223,
   "id": "90bf4091-8813-4eb8-b7b7-dee59187b76e",
   "metadata": {},
   "outputs": [],
   "source": [
    "def full_merge(features, target):\n",
    "\n",
    "    \"\"\"\n",
    "\n",
    "    Merge the dataframes with the link features to the\n",
    "    link target (absence/presence)\n",
    "\n",
    "    \"\"\"\n",
    "\n",
    "    result = reduce(\n",
    "        lambda x, y: x.merge(y, on=[\"agent1\", \"agent2\"]),\n",
    "        features)\n",
    "    result = result.merge(target, on=[\"agent1\", \"agent2\"])\n",
    "    return result"
   ]
  },
  {
   "cell_type": "code",
   "execution_count": 224,
   "id": "c3926629-9491-4fcc-abe5-2518e26935bf",
   "metadata": {},
   "outputs": [],
   "source": [
    "def make_training_data(graphs, n_prev=12):\n",
    "\n",
    "    \"\"\"\n",
    "\n",
    "    Implement a sliding window approach for extracting features\n",
    "    and targets\n",
    "\n",
    "    Example:\n",
    "    {G1, G2, .... G12} -> G13\n",
    "    {G2, G3, .... G13} -> G14\n",
    "\n",
    "    Keyword Arguments:\n",
    "    graphs -- a dictionary of Conflict Graphs\n",
    "    n_prev -- The amount of time periods to slide the window\n",
    "              by\n",
    "\n",
    "\n",
    "    \"\"\"\n",
    "\n",
    "    keys = list(graphs.keys())\n",
    "    indexes = range(len(graphs)-n_prev)\n",
    "\n",
    "    train_dfs = []\n",
    "\n",
    "    start = time.time()\n",
    "\n",
    "    print('Creating Training Data...')\n",
    "    for index in indexes:\n",
    "\n",
    "        if index % 10 == 0:\n",
    "            print(str(index) + \" out of \" + str(len(indexes)))\n",
    "            print(str(time.time() - start) + \" seconds elapsed\")\n",
    "\n",
    "        # Select n_prev graphs in a sliding window for feature extraction\n",
    "        selected_keys_X = keys[index:index+n_prev][::-1]\n",
    "        # Select a graph with a period 1 after the final graph chosen in\n",
    "        # selected_keys_X\n",
    "        selected_keys_Y = keys[index+n_prev]\n",
    "\n",
    "        # Extract features/metrics for each period selected in\n",
    "        # selected_keys_X\n",
    "        features = (graphs[key].get_all_metrics(lag=idx+1)\n",
    "                    for (idx, key) in enumerate(selected_keys_X))\n",
    "\n",
    "        # Get the target labels for a graph 1 time period after the\n",
    "        # features\n",
    "        target = graphs[selected_keys_Y].get_edge_labels()\n",
    "\n",
    "        # Merge\n",
    "        result = full_merge(features, target)\n",
    "\n",
    "        train_dfs.append(result)\n",
    "\n",
    "        del features, target, result, selected_keys_X, selected_keys_Y\n",
    "\n",
    "    print('Training Data Created!')\n",
    "\n",
    "    return train_dfs"
   ]
  },
  {
   "cell_type": "markdown",
   "id": "cd176fd7-6928-44c4-a341-538f7040d4eb",
   "metadata": {},
   "source": [
    " # Creation of the Training Data via Graph Feature Extraction"
   ]
  },
  {
   "cell_type": "code",
   "execution_count": 225,
   "id": "109f367a-f104-4a76-ba62-89218fb237b1",
   "metadata": {},
   "outputs": [
    {
     "name": "stdout",
     "output_type": "stream",
     "text": [
      "Creating Conflict Graphs....\n",
      "20 out of 60\n",
      "40 out of 60\n",
      "60 out of 60\n",
      "Conflict Graph Creation Complete\n",
      "Creating Training Data...\n",
      "0 out of 48\n",
      "0.0 seconds elapsed\n",
      "10 out of 48\n",
      "1.3780114650726318 seconds elapsed\n",
      "20 out of 48\n",
      "2.621760606765747 seconds elapsed\n",
      "30 out of 48\n",
      "3.8217849731445312 seconds elapsed\n",
      "40 out of 48\n",
      "5.179511547088623 seconds elapsed\n",
      "Training Data Created!\n"
     ]
    }
   ],
   "source": [
    "conflict_graphs = make_conflict_graphs(all_realised_conflicts,\n",
    "                                           categories,\n",
    "                                           countries,\n",
    "                                           periods)\n",
    "train = make_training_data(conflict_graphs)\n",
    "train_df = pd.concat(train, ignore_index=True)\n",
    "train_df.to_parquet('df.parquet.gzip', compression='gzip')"
   ]
  },
  {
   "cell_type": "code",
   "execution_count": 226,
   "id": "1a691826-4f59-4837-9e0b-00fff6f8ad7c",
   "metadata": {},
   "outputs": [
    {
     "data": {
      "text/html": [
       "<div>\n",
       "<style scoped>\n",
       "    .dataframe tbody tr th:only-of-type {\n",
       "        vertical-align: middle;\n",
       "    }\n",
       "\n",
       "    .dataframe tbody tr th {\n",
       "        vertical-align: top;\n",
       "    }\n",
       "\n",
       "    .dataframe thead th {\n",
       "        text-align: right;\n",
       "    }\n",
       "</style>\n",
       "<table border=\"1\" class=\"dataframe\">\n",
       "  <thead>\n",
       "    <tr style=\"text-align: right;\">\n",
       "      <th></th>\n",
       "      <th>agent1</th>\n",
       "      <th>agent2</th>\n",
       "      <th>pref_attachment_1periods_prev</th>\n",
       "      <th>resource_alloc_com_1periods_prev</th>\n",
       "      <th>jaccard_coef_1periods_prev</th>\n",
       "      <th>pref_attachment_2periods_prev</th>\n",
       "      <th>resource_alloc_com_2periods_prev</th>\n",
       "      <th>jaccard_coef_2periods_prev</th>\n",
       "      <th>pref_attachment_3periods_prev</th>\n",
       "      <th>resource_alloc_com_3periods_prev</th>\n",
       "      <th>...</th>\n",
       "      <th>resource_alloc_com_10periods_prev</th>\n",
       "      <th>jaccard_coef_10periods_prev</th>\n",
       "      <th>pref_attachment_11periods_prev</th>\n",
       "      <th>resource_alloc_com_11periods_prev</th>\n",
       "      <th>jaccard_coef_11periods_prev</th>\n",
       "      <th>pref_attachment_12periods_prev</th>\n",
       "      <th>resource_alloc_com_12periods_prev</th>\n",
       "      <th>jaccard_coef_12periods_prev</th>\n",
       "      <th>target</th>\n",
       "      <th>period</th>\n",
       "    </tr>\n",
       "  </thead>\n",
       "  <tbody>\n",
       "    <tr>\n",
       "      <th>0</th>\n",
       "      <td>State Forces-Afghanistan</td>\n",
       "      <td>State Forces-Afghanistan</td>\n",
       "      <td>36</td>\n",
       "      <td>1.059524</td>\n",
       "      <td>0.8</td>\n",
       "      <td>36</td>\n",
       "      <td>0.791667</td>\n",
       "      <td>0.8</td>\n",
       "      <td>36</td>\n",
       "      <td>0.833333</td>\n",
       "      <td>...</td>\n",
       "      <td>0.559524</td>\n",
       "      <td>0.75</td>\n",
       "      <td>49</td>\n",
       "      <td>1.833333</td>\n",
       "      <td>0.833333</td>\n",
       "      <td>49</td>\n",
       "      <td>1.809524</td>\n",
       "      <td>0.833333</td>\n",
       "      <td>1.0</td>\n",
       "      <td>2018-1</td>\n",
       "    </tr>\n",
       "    <tr>\n",
       "      <th>1</th>\n",
       "      <td>Rebel Groups-Afghanistan</td>\n",
       "      <td>Rioters-Afghanistan</td>\n",
       "      <td>0</td>\n",
       "      <td>0.000000</td>\n",
       "      <td>0.0</td>\n",
       "      <td>0</td>\n",
       "      <td>0.000000</td>\n",
       "      <td>0.0</td>\n",
       "      <td>0</td>\n",
       "      <td>0.000000</td>\n",
       "      <td>...</td>\n",
       "      <td>0.000000</td>\n",
       "      <td>0.00</td>\n",
       "      <td>6</td>\n",
       "      <td>0.142857</td>\n",
       "      <td>0.200000</td>\n",
       "      <td>7</td>\n",
       "      <td>0.000000</td>\n",
       "      <td>0.000000</td>\n",
       "      <td>0.0</td>\n",
       "      <td>2018-1</td>\n",
       "    </tr>\n",
       "    <tr>\n",
       "      <th>2</th>\n",
       "      <td>Protesters-Afghanistan</td>\n",
       "      <td>Rebel Groups-Afghanistan</td>\n",
       "      <td>12</td>\n",
       "      <td>0.309524</td>\n",
       "      <td>0.4</td>\n",
       "      <td>8</td>\n",
       "      <td>0.000000</td>\n",
       "      <td>0.0</td>\n",
       "      <td>0</td>\n",
       "      <td>0.000000</td>\n",
       "      <td>...</td>\n",
       "      <td>0.000000</td>\n",
       "      <td>0.00</td>\n",
       "      <td>0</td>\n",
       "      <td>0.000000</td>\n",
       "      <td>0.000000</td>\n",
       "      <td>7</td>\n",
       "      <td>0.142857</td>\n",
       "      <td>0.166667</td>\n",
       "      <td>0.0</td>\n",
       "      <td>2018-1</td>\n",
       "    </tr>\n",
       "    <tr>\n",
       "      <th>3</th>\n",
       "      <td>Civilians-Afghanistan</td>\n",
       "      <td>Rioters-Afghanistan</td>\n",
       "      <td>0</td>\n",
       "      <td>0.000000</td>\n",
       "      <td>0.0</td>\n",
       "      <td>0</td>\n",
       "      <td>0.000000</td>\n",
       "      <td>0.0</td>\n",
       "      <td>0</td>\n",
       "      <td>0.000000</td>\n",
       "      <td>...</td>\n",
       "      <td>0.000000</td>\n",
       "      <td>0.00</td>\n",
       "      <td>4</td>\n",
       "      <td>0.142857</td>\n",
       "      <td>0.250000</td>\n",
       "      <td>4</td>\n",
       "      <td>0.142857</td>\n",
       "      <td>0.250000</td>\n",
       "      <td>0.0</td>\n",
       "      <td>2018-1</td>\n",
       "    </tr>\n",
       "    <tr>\n",
       "      <th>4</th>\n",
       "      <td>Rioters-Afghanistan</td>\n",
       "      <td>State Forces-Afghanistan</td>\n",
       "      <td>0</td>\n",
       "      <td>0.000000</td>\n",
       "      <td>0.0</td>\n",
       "      <td>0</td>\n",
       "      <td>0.000000</td>\n",
       "      <td>0.0</td>\n",
       "      <td>0</td>\n",
       "      <td>0.000000</td>\n",
       "      <td>...</td>\n",
       "      <td>0.000000</td>\n",
       "      <td>0.00</td>\n",
       "      <td>7</td>\n",
       "      <td>0.000000</td>\n",
       "      <td>0.000000</td>\n",
       "      <td>7</td>\n",
       "      <td>0.142857</td>\n",
       "      <td>0.166667</td>\n",
       "      <td>1.0</td>\n",
       "      <td>2018-1</td>\n",
       "    </tr>\n",
       "  </tbody>\n",
       "</table>\n",
       "<p>5 rows × 40 columns</p>\n",
       "</div>"
      ],
      "text/plain": [
       "                     agent1                    agent2  \\\n",
       "0  State Forces-Afghanistan  State Forces-Afghanistan   \n",
       "1  Rebel Groups-Afghanistan       Rioters-Afghanistan   \n",
       "2    Protesters-Afghanistan  Rebel Groups-Afghanistan   \n",
       "3     Civilians-Afghanistan       Rioters-Afghanistan   \n",
       "4       Rioters-Afghanistan  State Forces-Afghanistan   \n",
       "\n",
       "   pref_attachment_1periods_prev  resource_alloc_com_1periods_prev  \\\n",
       "0                             36                          1.059524   \n",
       "1                              0                          0.000000   \n",
       "2                             12                          0.309524   \n",
       "3                              0                          0.000000   \n",
       "4                              0                          0.000000   \n",
       "\n",
       "   jaccard_coef_1periods_prev  pref_attachment_2periods_prev  \\\n",
       "0                         0.8                             36   \n",
       "1                         0.0                              0   \n",
       "2                         0.4                              8   \n",
       "3                         0.0                              0   \n",
       "4                         0.0                              0   \n",
       "\n",
       "   resource_alloc_com_2periods_prev  jaccard_coef_2periods_prev  \\\n",
       "0                          0.791667                         0.8   \n",
       "1                          0.000000                         0.0   \n",
       "2                          0.000000                         0.0   \n",
       "3                          0.000000                         0.0   \n",
       "4                          0.000000                         0.0   \n",
       "\n",
       "   pref_attachment_3periods_prev  resource_alloc_com_3periods_prev  ...  \\\n",
       "0                             36                          0.833333  ...   \n",
       "1                              0                          0.000000  ...   \n",
       "2                              0                          0.000000  ...   \n",
       "3                              0                          0.000000  ...   \n",
       "4                              0                          0.000000  ...   \n",
       "\n",
       "   resource_alloc_com_10periods_prev  jaccard_coef_10periods_prev  \\\n",
       "0                           0.559524                         0.75   \n",
       "1                           0.000000                         0.00   \n",
       "2                           0.000000                         0.00   \n",
       "3                           0.000000                         0.00   \n",
       "4                           0.000000                         0.00   \n",
       "\n",
       "   pref_attachment_11periods_prev  resource_alloc_com_11periods_prev  \\\n",
       "0                              49                           1.833333   \n",
       "1                               6                           0.142857   \n",
       "2                               0                           0.000000   \n",
       "3                               4                           0.142857   \n",
       "4                               7                           0.000000   \n",
       "\n",
       "   jaccard_coef_11periods_prev  pref_attachment_12periods_prev  \\\n",
       "0                     0.833333                              49   \n",
       "1                     0.200000                               7   \n",
       "2                     0.000000                               7   \n",
       "3                     0.250000                               4   \n",
       "4                     0.000000                               7   \n",
       "\n",
       "   resource_alloc_com_12periods_prev  jaccard_coef_12periods_prev  target  \\\n",
       "0                           1.809524                     0.833333     1.0   \n",
       "1                           0.000000                     0.000000     0.0   \n",
       "2                           0.142857                     0.166667     0.0   \n",
       "3                           0.142857                     0.250000     0.0   \n",
       "4                           0.142857                     0.166667     1.0   \n",
       "\n",
       "   period  \n",
       "0  2018-1  \n",
       "1  2018-1  \n",
       "2  2018-1  \n",
       "3  2018-1  \n",
       "4  2018-1  \n",
       "\n",
       "[5 rows x 40 columns]"
      ]
     },
     "execution_count": 226,
     "metadata": {},
     "output_type": "execute_result"
    }
   ],
   "source": [
    "train_df = pd.read_parquet('df.parquet.gzip')\n",
    "train_df.head()\n"
   ]
  },
  {
   "cell_type": "markdown",
   "id": "0489632f-342e-41a2-a8b4-ebcb484972ab",
   "metadata": {},
   "source": [
    " # Read in training data\n",
    " From feature engineering phase"
   ]
  },
  {
   "cell_type": "code",
   "execution_count": 227,
   "id": "66a7685f-9042-4817-b538-fe7403f09535",
   "metadata": {},
   "outputs": [],
   "source": [
    "mode = 'read'\n",
    "train_df = pd.read_parquet('df.parquet.gzip')"
   ]
  },
  {
   "cell_type": "markdown",
   "id": "ffe450e2-b533-42cd-bd1b-96a83acda401",
   "metadata": {},
   "source": [
    " ## Define the time periods of interest"
   ]
  },
  {
   "cell_type": "code",
   "execution_count": 228,
   "id": "25f1456f-c7bc-4f27-b53f-460ac4acc479",
   "metadata": {},
   "outputs": [],
   "source": [
    "periods = [str(x)+\"-\"+str(y) for x, y in\n",
    "           product(range(2017, 2022), range(1, 13))]"
   ]
  },
  {
   "cell_type": "markdown",
   "id": "a682fc4a-7c75-4ae2-aca4-a3da865e3e3d",
   "metadata": {},
   "source": [
    " ## Set the test/train split\n",
    " 2017-1 - 2019-6 as Train <br>\n",
    " 2019-7 - 2022-12 as Test"
   ]
  },
  {
   "cell_type": "code",
   "execution_count": 229,
   "id": "f0fd001d-48f5-41d7-88a1-d1e818b31545",
   "metadata": {},
   "outputs": [],
   "source": [
    "training_range = periods[:48]\n",
    "testing_range = periods[48:60]\n",
    "train_flag = train_df.period.isin(training_range)\n",
    "test_flag = train_df.period.isin(testing_range)"
   ]
  },
  {
   "cell_type": "code",
   "execution_count": 230,
   "id": "5b6296d3-c527-4ed4-9e63-89428478a3e8",
   "metadata": {},
   "outputs": [
    {
     "name": "stdout",
     "output_type": "stream",
     "text": [
      "Creating Test/Train Splits\n"
     ]
    }
   ],
   "source": [
    "print('Creating Test/Train Splits')\n",
    "train = train_df[train_flag]\n",
    "test = train_df[test_flag]"
   ]
  },
  {
   "cell_type": "code",
   "execution_count": 231,
   "id": "130c9ec0-a97f-4056-8f38-6cdd9fc3dc83",
   "metadata": {},
   "outputs": [
    {
     "name": "stdout",
     "output_type": "stream",
     "text": [
      "Splitting Data\n",
      "Complete\n"
     ]
    }
   ],
   "source": [
    "print('Splitting Data')\n",
    "X_train = train.drop('target', axis=1)\\\n",
    "    .set_index([\"agent1\", \"agent2\", \"period\"])\n",
    "y_train = train\\\n",
    "    .set_index([\"agent1\", \"agent2\", \"period\"])\\\n",
    "    .loc[:, \"target\"]\n",
    "\n",
    "X_test = test.drop('target', axis=1)\\\n",
    "    .set_index([\"agent1\", \"agent2\", \"period\"])\n",
    "y_test = test\\\n",
    "    .set_index([\"agent1\", \"agent2\", \"period\"])\\\n",
    "    .loc[:, \"target\"]\n",
    "print('Complete')"
   ]
  },
  {
   "cell_type": "markdown",
   "id": "d3494e9a-393a-4e95-923b-8acb0b963997",
   "metadata": {},
   "source": [
    " # Model Training\n",
    " Here I used a Balanced Random Forest from the imbalanced-learn package."
   ]
  },
  {
   "cell_type": "code",
   "execution_count": 232,
   "id": "131c4a90",
   "metadata": {},
   "outputs": [],
   "source": [
    "if mode == 'train':\n",
    "    rf = BalancedRandomForestClassifier(n_jobs=5, verbose=10,\n",
    "                                        n_estimators=150, random_state=123)\n",
    "    rf.fit(X_train, y_train)\n",
    "    dump(rf, 'model.joblib')\n",
    "if mode == 'read':\n",
    "    rf = load('model.joblib')"
   ]
  },
  {
   "cell_type": "markdown",
   "id": "b06ef1c9-660c-4481-b220-99abd331289b",
   "metadata": {},
   "source": [
    " # Model performance\n",
    " This is a very very imbalanced dataset, so accuracy shouldn't be the metric of\n",
    " overall performance.\n",
    " Accuracy doesn't tell me enough about false positives or false negatives."
   ]
  },
  {
   "cell_type": "markdown",
   "id": "ae72999f-e524-432c-a5ef-76e9d47f87a1",
   "metadata": {},
   "source": [
    " # Performance on Training data"
   ]
  },
  {
   "cell_type": "code",
   "execution_count": 233,
   "id": "e2462947-14e4-4a5e-bd82-d5a6e5568d9b",
   "metadata": {},
   "outputs": [
    {
     "name": "stderr",
     "output_type": "stream",
     "text": [
      "[Parallel(n_jobs=5)]: Using backend ThreadingBackend with 5 concurrent workers.\n",
      "[Parallel(n_jobs=5)]: Done   3 tasks      | elapsed:    0.0s\n",
      "[Parallel(n_jobs=5)]: Done   8 tasks      | elapsed:    0.0s\n",
      "[Parallel(n_jobs=5)]: Done  15 tasks      | elapsed:    0.0s\n",
      "[Parallel(n_jobs=5)]: Done  22 tasks      | elapsed:    0.0s\n",
      "[Parallel(n_jobs=5)]: Done  31 tasks      | elapsed:    0.0s\n",
      "[Parallel(n_jobs=5)]: Done  40 tasks      | elapsed:    0.0s\n",
      "[Parallel(n_jobs=5)]: Done  51 tasks      | elapsed:    0.0s\n",
      "[Parallel(n_jobs=5)]: Done  62 tasks      | elapsed:    0.0s\n",
      "[Parallel(n_jobs=5)]: Done  75 tasks      | elapsed:    0.0s\n",
      "[Parallel(n_jobs=5)]: Done  88 tasks      | elapsed:    0.0s\n",
      "[Parallel(n_jobs=5)]: Done 103 tasks      | elapsed:    0.0s\n",
      "[Parallel(n_jobs=5)]: Done 118 tasks      | elapsed:    0.0s\n",
      "[Parallel(n_jobs=5)]: Done 135 tasks      | elapsed:    0.0s\n",
      "[Parallel(n_jobs=5)]: Done 150 out of 150 | elapsed:    0.0s finished\n"
     ]
    }
   ],
   "source": [
    "y_train_pred = rf.predict(X_train)"
   ]
  },
  {
   "cell_type": "markdown",
   "id": "06d8ffc6-1f67-4a44-a6a8-6b80d69610b7",
   "metadata": {},
   "source": [
    " #### Confusion Matrix"
   ]
  },
  {
   "cell_type": "code",
   "execution_count": 234,
   "id": "36cc9e17-ccbc-458a-b5e2-c000b590d853",
   "metadata": {},
   "outputs": [
    {
     "data": {
      "text/plain": [
       "Text(33.0, 0.5, 'Actual Conflicts')"
      ]
     },
     "execution_count": 234,
     "metadata": {},
     "output_type": "execute_result"
    },
    {
     "data": {
      "image/png": "[encoded data removed]",
      "text/plain": [
       "<Figure size 432x288 with 2 Axes>"
      ]
     },
     "metadata": {
      "needs_background": "light"
     },
     "output_type": "display_data"
    }
   ],
   "source": [
    "import seaborn as sns\n",
    "\n",
    "cm = confusion_matrix(y_train, y_train_pred)\n",
    "\n",
    "ax = sns.heatmap(cm, annot=True, fmt='g', cmap=\"YlGnBu\")\n",
    "ax.set_title('ACLED Training Data Confusion Matrix')\n",
    "ax.set_xlabel('Predicted Conflicts')\n",
    "ax.set_ylabel('Actual Conflicts')"
   ]
  },
  {
   "cell_type": "code",
   "execution_count": 235,
   "id": "01a6168f-340c-4106-8451-3911b536387f",
   "metadata": {},
   "outputs": [
    {
     "name": "stdout",
     "output_type": "stream",
     "text": [
      "Recall Score (TRAIN): 0.9968051118210862\n",
      "F1 (TRAIN): 0.9327354260089685\n"
     ]
    }
   ],
   "source": [
    "print(\"Recall Score (TRAIN): \" + str(recall_score(y_train, y_train_pred)))\n",
    "print(\"F1 (TRAIN): \" + str(f1_score(y_train, y_train_pred)))"
   ]
  },
  {
   "cell_type": "markdown",
   "id": "f47486fc-6c63-48d2-aa45-3d9c670df210",
   "metadata": {},
   "source": [
    " # Performance on Testing data"
   ]
  },
  {
   "cell_type": "code",
   "execution_count": 236,
   "id": "6cb06283-b59e-47ed-a503-91e16ca01a13",
   "metadata": {},
   "outputs": [
    {
     "name": "stderr",
     "output_type": "stream",
     "text": [
      "[Parallel(n_jobs=5)]: Using backend ThreadingBackend with 5 concurrent workers.\n",
      "[Parallel(n_jobs=5)]: Done   3 tasks      | elapsed:    0.0s\n",
      "[Parallel(n_jobs=5)]: Done   8 tasks      | elapsed:    0.0s\n",
      "[Parallel(n_jobs=5)]: Done  15 tasks      | elapsed:    0.0s\n",
      "[Parallel(n_jobs=5)]: Done  22 tasks      | elapsed:    0.0s\n",
      "[Parallel(n_jobs=5)]: Done  31 tasks      | elapsed:    0.0s\n",
      "[Parallel(n_jobs=5)]: Done  40 tasks      | elapsed:    0.0s\n",
      "[Parallel(n_jobs=5)]: Done  51 tasks      | elapsed:    0.0s\n",
      "[Parallel(n_jobs=5)]: Done  62 tasks      | elapsed:    0.0s\n",
      "[Parallel(n_jobs=5)]: Done  75 tasks      | elapsed:    0.0s\n",
      "[Parallel(n_jobs=5)]: Done  88 tasks      | elapsed:    0.0s\n",
      "[Parallel(n_jobs=5)]: Done 103 tasks      | elapsed:    0.0s\n",
      "[Parallel(n_jobs=5)]: Done 118 tasks      | elapsed:    0.0s\n",
      "[Parallel(n_jobs=5)]: Done 135 tasks      | elapsed:    0.0s\n",
      "[Parallel(n_jobs=5)]: Done 150 out of 150 | elapsed:    0.0s finished\n"
     ]
    }
   ],
   "source": [
    "y_test_pred = rf.predict(X_test)"
   ]
  },
  {
   "cell_type": "markdown",
   "id": "5a6c156c-eb23-46a2-93b1-f0d468d5741f",
   "metadata": {},
   "source": [
    " #### Confusion Matrix"
   ]
  },
  {
   "cell_type": "code",
   "execution_count": 237,
   "id": "a470121c-0dcc-40bc-813c-a6216e6c4de3",
   "metadata": {},
   "outputs": [
    {
     "data": {
      "text/plain": [
       "Text(33.0, 0.5, 'Actual Conflicts')"
      ]
     },
     "execution_count": 237,
     "metadata": {},
     "output_type": "execute_result"
    },
    {
     "data": {
      "image/png": "[encoded data removed]",
      "text/plain": [
       "<Figure size 432x288 with 2 Axes>"
      ]
     },
     "metadata": {
      "needs_background": "light"
     },
     "output_type": "display_data"
    }
   ],
   "source": [
    "cm  = confusion_matrix(y_test, y_test_pred)\n",
    "\n",
    "ax = sns.heatmap(cm, annot=True, fmt='g', cmap=\"YlGnBu\")\n",
    "ax.set_title('ACLED Testing Data Confusion Matrix')\n",
    "ax.set_xlabel('Predicted Conflicts')\n",
    "ax.set_ylabel('Actual Conflicts')"
   ]
  },
  {
   "cell_type": "code",
   "execution_count": 238,
   "id": "fa1b9cc1-fd74-4146-b27a-292024fa415e",
   "metadata": {},
   "outputs": [
    {
     "name": "stdout",
     "output_type": "stream",
     "text": [
      "Recall Score (TEST): 0.78125\n",
      "F1 (TEST): 0.7317073170731707\n"
     ]
    }
   ],
   "source": [
    "print(\"Recall Score (TEST): \" + str(recall_score(y_test, y_test_pred)))\n",
    "print(\"F1 (TEST): \" + str(f1_score(y_test, y_test_pred)))"
   ]
  },
  {
   "cell_type": "markdown",
   "id": "9bca2c1b-9dce-415d-9a1d-9c6287ad406c",
   "metadata": {},
   "source": [
    " # Feature Importances"
   ]
  },
  {
   "cell_type": "code",
   "execution_count": 239,
   "id": "b2e63d92-e147-46d8-8114-80f2a5e21205",
   "metadata": {},
   "outputs": [
    {
     "name": "stdout",
     "output_type": "stream",
     "text": [
      "Feature ranking:\n",
      "1. Feature: pref_attachment_8periods_prev 0.08959808644807969\n",
      "2. Feature: pref_attachment_10periods_prev 0.07697559416216347\n",
      "3. Feature: pref_attachment_12periods_prev 0.07383986248319202\n",
      "4. Feature: pref_attachment_2periods_prev 0.07109929392749408\n",
      "5. Feature: pref_attachment_7periods_prev 0.06086473374251281\n",
      "6. Feature: pref_attachment_11periods_prev 0.046827267922086926\n",
      "7. Feature: pref_attachment_5periods_prev 0.04039928508454296\n",
      "8. Feature: pref_attachment_3periods_prev 0.04001833806570783\n",
      "9. Feature: pref_attachment_6periods_prev 0.03994990194121388\n",
      "10. Feature: pref_attachment_4periods_prev 0.03859693419278863\n",
      "11. Feature: pref_attachment_9periods_prev 0.03549597560846898\n",
      "12. Feature: resource_alloc_com_8periods_prev 0.031039374660002415\n",
      "13. Feature: pref_attachment_1periods_prev 0.029228131324195078\n",
      "14. Feature: resource_alloc_com_3periods_prev 0.029134690604573615\n",
      "15. Feature: resource_alloc_com_1periods_prev 0.028095595535293012\n",
      "16. Feature: resource_alloc_com_5periods_prev 0.02434542643392243\n",
      "17. Feature: resource_alloc_com_2periods_prev 0.023687127877317686\n",
      "18. Feature: resource_alloc_com_7periods_prev 0.02028980442354434\n",
      "19. Feature: resource_alloc_com_12periods_prev 0.020172844240899313\n",
      "20. Feature: resource_alloc_com_6periods_prev 0.017955644794918315\n",
      "21. Feature: resource_alloc_com_10periods_prev 0.017422482474651235\n",
      "22. Feature: resource_alloc_com_11periods_prev 0.015407132955146747\n",
      "23. Feature: resource_alloc_com_4periods_prev 0.014694017409027971\n",
      "24. Feature: jaccard_coef_2periods_prev 0.013519148316744339\n",
      "25. Feature: resource_alloc_com_9periods_prev 0.012574699546364383\n",
      "26. Feature: jaccard_coef_3periods_prev 0.011140026215937928\n",
      "27. Feature: jaccard_coef_1periods_prev 0.010885123021493146\n",
      "28. Feature: jaccard_coef_4periods_prev 0.00970829690872788\n",
      "29. Feature: jaccard_coef_9periods_prev 0.008136886864735062\n",
      "30. Feature: jaccard_coef_10periods_prev 0.007760615082190024\n",
      "31. Feature: jaccard_coef_5periods_prev 0.007738494383071136\n",
      "32. Feature: jaccard_coef_12periods_prev 0.0076562036475280705\n",
      "33. Feature: jaccard_coef_8periods_prev 0.00733218955268131\n",
      "34. Feature: jaccard_coef_7periods_prev 0.0066502450210378355\n",
      "35. Feature: jaccard_coef_11periods_prev 0.006036214080262919\n",
      "36. Feature: jaccard_coef_6periods_prev 0.005724311047482758\n"
     ]
    }
   ],
   "source": [
    "importances = rf.feature_importances_\n",
    "indices = np.argsort(importances)[::-1]\n",
    "cols = list(X_train.columns)\n",
    "# Print the feature ranking\n",
    "print(\"Feature ranking:\")\n",
    "for f in range(X_train.shape[1]):\n",
    "    print(str(f + 1)+'. Feature: '+ cols[indices[f]] + ' '+ str(importances[indices[f]]))"
   ]
  },
  {
   "cell_type": "markdown",
   "id": "0e6ab95f",
   "metadata": {},
   "source": [
    "#### Now, I am adding in the stock price, monthly, and prior earnings columns to my dataset and repeat the code above to see how if affects the predictability of the code"
   ]
  },
  {
   "cell_type": "code",
   "execution_count": 240,
   "id": "907c855d-16f1-4a98-814c-7be9766e607a",
   "metadata": {},
   "outputs": [
    {
     "data": {
      "text/html": [
       "<div>\n",
       "<style scoped>\n",
       "    .dataframe tbody tr th:only-of-type {\n",
       "        vertical-align: middle;\n",
       "    }\n",
       "\n",
       "    .dataframe tbody tr th {\n",
       "        vertical-align: top;\n",
       "    }\n",
       "\n",
       "    .dataframe thead th {\n",
       "        text-align: right;\n",
       "    }\n",
       "</style>\n",
       "<table border=\"1\" class=\"dataframe\">\n",
       "  <thead>\n",
       "    <tr style=\"text-align: right;\">\n",
       "      <th></th>\n",
       "      <th>date</th>\n",
       "      <th>ia_eps_mean</th>\n",
       "      <th>ia_rps_mean</th>\n",
       "      <th>rev_oulnta</th>\n",
       "      <th>ia_net_margin_mean</th>\n",
       "      <th>adj_close</th>\n",
       "    </tr>\n",
       "  </thead>\n",
       "  <tbody>\n",
       "    <tr>\n",
       "      <th>0</th>\n",
       "      <td>1/31/2017</td>\n",
       "      <td>5.652951</td>\n",
       "      <td>67.308617</td>\n",
       "      <td>0.572350</td>\n",
       "      <td>0.090476</td>\n",
       "      <td>0.000914</td>\n",
       "    </tr>\n",
       "    <tr>\n",
       "      <th>1</th>\n",
       "      <td>2/1/2017</td>\n",
       "      <td>5.656033</td>\n",
       "      <td>67.325997</td>\n",
       "      <td>0.572255</td>\n",
       "      <td>0.090494</td>\n",
       "      <td>0.000000</td>\n",
       "    </tr>\n",
       "    <tr>\n",
       "      <th>2</th>\n",
       "      <td>2/2/2017</td>\n",
       "      <td>5.659115</td>\n",
       "      <td>67.343378</td>\n",
       "      <td>0.572159</td>\n",
       "      <td>0.090513</td>\n",
       "      <td>0.000281</td>\n",
       "    </tr>\n",
       "    <tr>\n",
       "      <th>3</th>\n",
       "      <td>2/3/2017</td>\n",
       "      <td>5.662197</td>\n",
       "      <td>67.360759</td>\n",
       "      <td>0.572064</td>\n",
       "      <td>0.090531</td>\n",
       "      <td>0.014112</td>\n",
       "    </tr>\n",
       "    <tr>\n",
       "      <th>4</th>\n",
       "      <td>2/4/2017</td>\n",
       "      <td>5.665279</td>\n",
       "      <td>67.378139</td>\n",
       "      <td>0.571969</td>\n",
       "      <td>0.090549</td>\n",
       "      <td>0.001223</td>\n",
       "    </tr>\n",
       "  </tbody>\n",
       "</table>\n",
       "</div>"
      ],
      "text/plain": [
       "        date  ia_eps_mean  ia_rps_mean  rev_oulnta  ia_net_margin_mean  \\\n",
       "0  1/31/2017     5.652951    67.308617    0.572350            0.090476   \n",
       "1   2/1/2017     5.656033    67.325997    0.572255            0.090494   \n",
       "2   2/2/2017     5.659115    67.343378    0.572159            0.090513   \n",
       "3   2/3/2017     5.662197    67.360759    0.572064            0.090531   \n",
       "4   2/4/2017     5.665279    67.378139    0.571969            0.090549   \n",
       "\n",
       "   adj_close  \n",
       "0   0.000914  \n",
       "1   0.000000  \n",
       "2   0.000281  \n",
       "3   0.014112  \n",
       "4   0.001223  "
      ]
     },
     "execution_count": 240,
     "metadata": {},
     "output_type": "execute_result"
    }
   ],
   "source": [
    "import pandas as pd\n",
    "\n",
    "stock_df  = pd.read_csv('fatal_finance.csv')\n",
    "\n",
    "stock_df.head()"
   ]
  },
  {
   "cell_type": "code",
   "execution_count": 241,
   "id": "a27f77d4",
   "metadata": {},
   "outputs": [],
   "source": [
    "data['date'] = data['event_date']"
   ]
  },
  {
   "cell_type": "code",
   "execution_count": 242,
   "id": "887140c0",
   "metadata": {},
   "outputs": [],
   "source": [
    "data['date'] =pd.to_datetime(data.date)\n",
    "stock_df['date'] =pd.to_datetime(stock_df.date)"
   ]
  },
  {
   "cell_type": "code",
   "execution_count": 243,
   "id": "9f874b2e",
   "metadata": {},
   "outputs": [],
   "source": [
    "data = pd.merge(data, stock_df, how='outer', on='date')\n",
    "\n",
    "data=data.dropna(subset=['event_date'])"
   ]
  },
  {
   "cell_type": "markdown",
   "id": "f114c04b",
   "metadata": {},
   "source": [
    "## Create a \"conflict dataframe\"\n",
    " Join the interaction lookup to each actor code in order to get the category\n",
    " of actor that they are."
   ]
  },
  {
   "cell_type": "code",
   "execution_count": 244,
   "id": "7a8d803c",
   "metadata": {},
   "outputs": [],
   "source": [
    "conflict_df = data.pipe(lambda x: get_actor_categories(x, interaction_lookup))\\\n",
    "    .pipe(subset_columns)\\\n",
    "    .pipe(lambda x: country_extractor(x, countries))"
   ]
  },
  {
   "cell_type": "markdown",
   "id": "230b2084",
   "metadata": {},
   "source": [
    " # Creation of the Training Data via Graph Feature Extraction"
   ]
  },
  {
   "cell_type": "code",
   "execution_count": 245,
   "id": "754f5f52",
   "metadata": {},
   "outputs": [
    {
     "name": "stdout",
     "output_type": "stream",
     "text": [
      "Creating Conflict Graphs....\n",
      "20 out of 60\n",
      "40 out of 60\n",
      "60 out of 60\n",
      "Conflict Graph Creation Complete\n",
      "Creating Training Data...\n",
      "0 out of 48\n",
      "0.0 seconds elapsed\n",
      "10 out of 48\n",
      "1.1233787536621094 seconds elapsed\n",
      "20 out of 48\n",
      "2.321486473083496 seconds elapsed\n",
      "30 out of 48\n",
      "3.4044060707092285 seconds elapsed\n",
      "40 out of 48\n",
      "4.655775547027588 seconds elapsed\n",
      "Training Data Created!\n"
     ]
    }
   ],
   "source": [
    "conflict_graphs = make_conflict_graphs(all_realised_conflicts,\n",
    "                                           categories,\n",
    "                                           countries,\n",
    "                                           periods)\n",
    "train = make_training_data(conflict_graphs)\n",
    "train_df = pd.concat(train, ignore_index=True)\n",
    "train_df.to_parquet('df.parquet.gzip', compression='gzip')"
   ]
  },
  {
   "cell_type": "code",
   "execution_count": 246,
   "id": "feb46e9a",
   "metadata": {},
   "outputs": [
    {
     "data": {
      "text/html": [
       "<div>\n",
       "<style scoped>\n",
       "    .dataframe tbody tr th:only-of-type {\n",
       "        vertical-align: middle;\n",
       "    }\n",
       "\n",
       "    .dataframe tbody tr th {\n",
       "        vertical-align: top;\n",
       "    }\n",
       "\n",
       "    .dataframe thead th {\n",
       "        text-align: right;\n",
       "    }\n",
       "</style>\n",
       "<table border=\"1\" class=\"dataframe\">\n",
       "  <thead>\n",
       "    <tr style=\"text-align: right;\">\n",
       "      <th></th>\n",
       "      <th>agent1</th>\n",
       "      <th>agent2</th>\n",
       "      <th>pref_attachment_1periods_prev</th>\n",
       "      <th>resource_alloc_com_1periods_prev</th>\n",
       "      <th>jaccard_coef_1periods_prev</th>\n",
       "      <th>pref_attachment_2periods_prev</th>\n",
       "      <th>resource_alloc_com_2periods_prev</th>\n",
       "      <th>jaccard_coef_2periods_prev</th>\n",
       "      <th>pref_attachment_3periods_prev</th>\n",
       "      <th>resource_alloc_com_3periods_prev</th>\n",
       "      <th>...</th>\n",
       "      <th>resource_alloc_com_10periods_prev</th>\n",
       "      <th>jaccard_coef_10periods_prev</th>\n",
       "      <th>pref_attachment_11periods_prev</th>\n",
       "      <th>resource_alloc_com_11periods_prev</th>\n",
       "      <th>jaccard_coef_11periods_prev</th>\n",
       "      <th>pref_attachment_12periods_prev</th>\n",
       "      <th>resource_alloc_com_12periods_prev</th>\n",
       "      <th>jaccard_coef_12periods_prev</th>\n",
       "      <th>target</th>\n",
       "      <th>period</th>\n",
       "    </tr>\n",
       "  </thead>\n",
       "  <tbody>\n",
       "    <tr>\n",
       "      <th>0</th>\n",
       "      <td>State Forces-Afghanistan</td>\n",
       "      <td>State Forces-Afghanistan</td>\n",
       "      <td>36</td>\n",
       "      <td>1.059524</td>\n",
       "      <td>0.8</td>\n",
       "      <td>36</td>\n",
       "      <td>0.791667</td>\n",
       "      <td>0.8</td>\n",
       "      <td>36</td>\n",
       "      <td>0.833333</td>\n",
       "      <td>...</td>\n",
       "      <td>0.559524</td>\n",
       "      <td>0.75</td>\n",
       "      <td>49</td>\n",
       "      <td>1.833333</td>\n",
       "      <td>0.833333</td>\n",
       "      <td>49</td>\n",
       "      <td>1.809524</td>\n",
       "      <td>0.833333</td>\n",
       "      <td>1.0</td>\n",
       "      <td>2018-1</td>\n",
       "    </tr>\n",
       "    <tr>\n",
       "      <th>1</th>\n",
       "      <td>Rebel Groups-Afghanistan</td>\n",
       "      <td>Rioters-Afghanistan</td>\n",
       "      <td>0</td>\n",
       "      <td>0.000000</td>\n",
       "      <td>0.0</td>\n",
       "      <td>0</td>\n",
       "      <td>0.000000</td>\n",
       "      <td>0.0</td>\n",
       "      <td>0</td>\n",
       "      <td>0.000000</td>\n",
       "      <td>...</td>\n",
       "      <td>0.000000</td>\n",
       "      <td>0.00</td>\n",
       "      <td>6</td>\n",
       "      <td>0.142857</td>\n",
       "      <td>0.200000</td>\n",
       "      <td>7</td>\n",
       "      <td>0.000000</td>\n",
       "      <td>0.000000</td>\n",
       "      <td>0.0</td>\n",
       "      <td>2018-1</td>\n",
       "    </tr>\n",
       "    <tr>\n",
       "      <th>2</th>\n",
       "      <td>Protesters-Afghanistan</td>\n",
       "      <td>Rebel Groups-Afghanistan</td>\n",
       "      <td>12</td>\n",
       "      <td>0.309524</td>\n",
       "      <td>0.4</td>\n",
       "      <td>8</td>\n",
       "      <td>0.000000</td>\n",
       "      <td>0.0</td>\n",
       "      <td>0</td>\n",
       "      <td>0.000000</td>\n",
       "      <td>...</td>\n",
       "      <td>0.000000</td>\n",
       "      <td>0.00</td>\n",
       "      <td>0</td>\n",
       "      <td>0.000000</td>\n",
       "      <td>0.000000</td>\n",
       "      <td>7</td>\n",
       "      <td>0.142857</td>\n",
       "      <td>0.166667</td>\n",
       "      <td>0.0</td>\n",
       "      <td>2018-1</td>\n",
       "    </tr>\n",
       "    <tr>\n",
       "      <th>3</th>\n",
       "      <td>Civilians-Afghanistan</td>\n",
       "      <td>Rioters-Afghanistan</td>\n",
       "      <td>0</td>\n",
       "      <td>0.000000</td>\n",
       "      <td>0.0</td>\n",
       "      <td>0</td>\n",
       "      <td>0.000000</td>\n",
       "      <td>0.0</td>\n",
       "      <td>0</td>\n",
       "      <td>0.000000</td>\n",
       "      <td>...</td>\n",
       "      <td>0.000000</td>\n",
       "      <td>0.00</td>\n",
       "      <td>4</td>\n",
       "      <td>0.142857</td>\n",
       "      <td>0.250000</td>\n",
       "      <td>4</td>\n",
       "      <td>0.142857</td>\n",
       "      <td>0.250000</td>\n",
       "      <td>0.0</td>\n",
       "      <td>2018-1</td>\n",
       "    </tr>\n",
       "    <tr>\n",
       "      <th>4</th>\n",
       "      <td>Rioters-Afghanistan</td>\n",
       "      <td>State Forces-Afghanistan</td>\n",
       "      <td>0</td>\n",
       "      <td>0.000000</td>\n",
       "      <td>0.0</td>\n",
       "      <td>0</td>\n",
       "      <td>0.000000</td>\n",
       "      <td>0.0</td>\n",
       "      <td>0</td>\n",
       "      <td>0.000000</td>\n",
       "      <td>...</td>\n",
       "      <td>0.000000</td>\n",
       "      <td>0.00</td>\n",
       "      <td>7</td>\n",
       "      <td>0.000000</td>\n",
       "      <td>0.000000</td>\n",
       "      <td>7</td>\n",
       "      <td>0.142857</td>\n",
       "      <td>0.166667</td>\n",
       "      <td>1.0</td>\n",
       "      <td>2018-1</td>\n",
       "    </tr>\n",
       "  </tbody>\n",
       "</table>\n",
       "<p>5 rows × 40 columns</p>\n",
       "</div>"
      ],
      "text/plain": [
       "                     agent1                    agent2  \\\n",
       "0  State Forces-Afghanistan  State Forces-Afghanistan   \n",
       "1  Rebel Groups-Afghanistan       Rioters-Afghanistan   \n",
       "2    Protesters-Afghanistan  Rebel Groups-Afghanistan   \n",
       "3     Civilians-Afghanistan       Rioters-Afghanistan   \n",
       "4       Rioters-Afghanistan  State Forces-Afghanistan   \n",
       "\n",
       "   pref_attachment_1periods_prev  resource_alloc_com_1periods_prev  \\\n",
       "0                             36                          1.059524   \n",
       "1                              0                          0.000000   \n",
       "2                             12                          0.309524   \n",
       "3                              0                          0.000000   \n",
       "4                              0                          0.000000   \n",
       "\n",
       "   jaccard_coef_1periods_prev  pref_attachment_2periods_prev  \\\n",
       "0                         0.8                             36   \n",
       "1                         0.0                              0   \n",
       "2                         0.4                              8   \n",
       "3                         0.0                              0   \n",
       "4                         0.0                              0   \n",
       "\n",
       "   resource_alloc_com_2periods_prev  jaccard_coef_2periods_prev  \\\n",
       "0                          0.791667                         0.8   \n",
       "1                          0.000000                         0.0   \n",
       "2                          0.000000                         0.0   \n",
       "3                          0.000000                         0.0   \n",
       "4                          0.000000                         0.0   \n",
       "\n",
       "   pref_attachment_3periods_prev  resource_alloc_com_3periods_prev  ...  \\\n",
       "0                             36                          0.833333  ...   \n",
       "1                              0                          0.000000  ...   \n",
       "2                              0                          0.000000  ...   \n",
       "3                              0                          0.000000  ...   \n",
       "4                              0                          0.000000  ...   \n",
       "\n",
       "   resource_alloc_com_10periods_prev  jaccard_coef_10periods_prev  \\\n",
       "0                           0.559524                         0.75   \n",
       "1                           0.000000                         0.00   \n",
       "2                           0.000000                         0.00   \n",
       "3                           0.000000                         0.00   \n",
       "4                           0.000000                         0.00   \n",
       "\n",
       "   pref_attachment_11periods_prev  resource_alloc_com_11periods_prev  \\\n",
       "0                              49                           1.833333   \n",
       "1                               6                           0.142857   \n",
       "2                               0                           0.000000   \n",
       "3                               4                           0.142857   \n",
       "4                               7                           0.000000   \n",
       "\n",
       "   jaccard_coef_11periods_prev  pref_attachment_12periods_prev  \\\n",
       "0                     0.833333                              49   \n",
       "1                     0.200000                               7   \n",
       "2                     0.000000                               7   \n",
       "3                     0.250000                               4   \n",
       "4                     0.000000                               7   \n",
       "\n",
       "   resource_alloc_com_12periods_prev  jaccard_coef_12periods_prev  target  \\\n",
       "0                           1.809524                     0.833333     1.0   \n",
       "1                           0.000000                     0.000000     0.0   \n",
       "2                           0.142857                     0.166667     0.0   \n",
       "3                           0.142857                     0.250000     0.0   \n",
       "4                           0.142857                     0.166667     1.0   \n",
       "\n",
       "   period  \n",
       "0  2018-1  \n",
       "1  2018-1  \n",
       "2  2018-1  \n",
       "3  2018-1  \n",
       "4  2018-1  \n",
       "\n",
       "[5 rows x 40 columns]"
      ]
     },
     "execution_count": 246,
     "metadata": {},
     "output_type": "execute_result"
    }
   ],
   "source": [
    "train_df = pd.read_parquet('df.parquet.gzip')\n",
    "train_df.head()\n"
   ]
  },
  {
   "cell_type": "markdown",
   "id": "7b10b11a",
   "metadata": {},
   "source": [
    " # Read in training data\n",
    " From feature engineering phase"
   ]
  },
  {
   "cell_type": "code",
   "execution_count": 247,
   "id": "28e1ffaf",
   "metadata": {},
   "outputs": [],
   "source": [
    "mode = 'read'\n",
    "train_df = pd.read_parquet('df.parquet.gzip')"
   ]
  },
  {
   "cell_type": "markdown",
   "id": "f9e53a81",
   "metadata": {},
   "source": [
    " ## Set the test/train split\n",
    " 2017-1 - 2019-6 as Train <br>\n",
    " 2019-7 - 2022-12 as Test"
   ]
  },
  {
   "cell_type": "code",
   "execution_count": 248,
   "id": "8082a201",
   "metadata": {},
   "outputs": [],
   "source": [
    "training_range = periods[:48]\n",
    "testing_range = periods[48:60]\n",
    "train_flag = train_df.period.isin(training_range)\n",
    "test_flag = train_df.period.isin(testing_range)"
   ]
  },
  {
   "cell_type": "code",
   "execution_count": 249,
   "id": "4e7be8d9",
   "metadata": {},
   "outputs": [
    {
     "name": "stdout",
     "output_type": "stream",
     "text": [
      "Creating Test/Train Splits\n"
     ]
    }
   ],
   "source": [
    "print('Creating Test/Train Splits')\n",
    "train = train_df[train_flag]\n",
    "test = train_df[test_flag]"
   ]
  },
  {
   "cell_type": "code",
   "execution_count": 250,
   "id": "fc08bd26",
   "metadata": {},
   "outputs": [
    {
     "name": "stdout",
     "output_type": "stream",
     "text": [
      "Splitting Data\n",
      "Complete\n"
     ]
    }
   ],
   "source": [
    "print('Splitting Data')\n",
    "X_train = train.drop('target', axis=1)\\\n",
    "    .set_index([\"agent1\", \"agent2\", \"period\"])\n",
    "y_train = train\\\n",
    "    .set_index([\"agent1\", \"agent2\", \"period\"])\\\n",
    "    .loc[:, \"target\"]\n",
    "\n",
    "X_test = test.drop('target', axis=1)\\\n",
    "    .set_index([\"agent1\", \"agent2\", \"period\"])\n",
    "y_test = test\\\n",
    "    .set_index([\"agent1\", \"agent2\", \"period\"])\\\n",
    "    .loc[:, \"target\"]\n",
    "print('Complete')"
   ]
  },
  {
   "cell_type": "markdown",
   "id": "2131767a",
   "metadata": {},
   "source": [
    " # Model Training\n",
    " Here I used a Balanced Random Forest from the imbalanced-learn package."
   ]
  },
  {
   "cell_type": "code",
   "execution_count": 251,
   "id": "4a879e70",
   "metadata": {},
   "outputs": [],
   "source": [
    "if mode == 'train':\n",
    "    rf = BalancedRandomForestClassifier(n_jobs=5, verbose=10,\n",
    "                                        n_estimators=150, random_state=123)\n",
    "    rf.fit(X_train, y_train)\n",
    "    dump(rf, 'model.joblib')\n",
    "if mode == 'read':\n",
    "    rf = load('model.joblib')"
   ]
  },
  {
   "cell_type": "markdown",
   "id": "8cdfcb9c",
   "metadata": {},
   "source": [
    " # Performance on Training data"
   ]
  },
  {
   "cell_type": "code",
   "execution_count": 252,
   "id": "a35a4c8b",
   "metadata": {},
   "outputs": [
    {
     "name": "stderr",
     "output_type": "stream",
     "text": [
      "[Parallel(n_jobs=5)]: Using backend ThreadingBackend with 5 concurrent workers.\n",
      "[Parallel(n_jobs=5)]: Done   3 tasks      | elapsed:    0.0s\n",
      "[Parallel(n_jobs=5)]: Done   8 tasks      | elapsed:    0.0s\n",
      "[Parallel(n_jobs=5)]: Done  15 tasks      | elapsed:    0.0s\n",
      "[Parallel(n_jobs=5)]: Done  22 tasks      | elapsed:    0.0s\n",
      "[Parallel(n_jobs=5)]: Done  31 tasks      | elapsed:    0.0s\n",
      "[Parallel(n_jobs=5)]: Done  40 tasks      | elapsed:    0.0s\n",
      "[Parallel(n_jobs=5)]: Done  51 tasks      | elapsed:    0.0s\n",
      "[Parallel(n_jobs=5)]: Done  62 tasks      | elapsed:    0.0s\n",
      "[Parallel(n_jobs=5)]: Done  75 tasks      | elapsed:    0.0s\n",
      "[Parallel(n_jobs=5)]: Done  88 tasks      | elapsed:    0.0s\n",
      "[Parallel(n_jobs=5)]: Done 103 tasks      | elapsed:    0.0s\n",
      "[Parallel(n_jobs=5)]: Done 118 tasks      | elapsed:    0.0s\n",
      "[Parallel(n_jobs=5)]: Done 135 tasks      | elapsed:    0.0s\n",
      "[Parallel(n_jobs=5)]: Done 150 out of 150 | elapsed:    0.0s finished\n"
     ]
    }
   ],
   "source": [
    "y_train_pred = rf.predict(X_train)"
   ]
  },
  {
   "cell_type": "code",
   "execution_count": 253,
   "id": "2a4ffcec",
   "metadata": {},
   "outputs": [
    {
     "data": {
      "text/plain": [
       "Text(33.0, 0.5, 'Actual Conflicts')"
      ]
     },
     "execution_count": 253,
     "metadata": {},
     "output_type": "execute_result"
    },
    {
     "data": {
      "image/png": "[encoded data removed]",
      "text/plain": [
       "<Figure size 432x288 with 2 Axes>"
      ]
     },
     "metadata": {
      "needs_background": "light"
     },
     "output_type": "display_data"
    }
   ],
   "source": [
    "import seaborn as sns\n",
    "\n",
    "cm = confusion_matrix(y_train, y_train_pred)\n",
    "\n",
    "ax = sns.heatmap(cm, annot=True, fmt='g', cmap=\"YlGnBu\")\n",
    "ax.set_title('ACLED Training Data Confusion Matrix')\n",
    "ax.set_xlabel('Predicted Conflicts')\n",
    "ax.set_ylabel('Actual Conflicts')"
   ]
  },
  {
   "cell_type": "code",
   "execution_count": 254,
   "id": "3594405b",
   "metadata": {},
   "outputs": [
    {
     "name": "stdout",
     "output_type": "stream",
     "text": [
      "Recall Score (TRAIN): 0.9968051118210862\n",
      "F1 (TRAIN): 0.9327354260089685\n"
     ]
    }
   ],
   "source": [
    "print(\"Recall Score (TRAIN): \" + str(recall_score(y_train, y_train_pred)))\n",
    "print(\"F1 (TRAIN): \" + str(f1_score(y_train, y_train_pred)))"
   ]
  },
  {
   "cell_type": "markdown",
   "id": "5fd32680",
   "metadata": {},
   "source": [
    " # Performance on Testing data"
   ]
  },
  {
   "cell_type": "code",
   "execution_count": 255,
   "id": "b8a26c4e",
   "metadata": {},
   "outputs": [
    {
     "name": "stderr",
     "output_type": "stream",
     "text": [
      "[Parallel(n_jobs=5)]: Using backend ThreadingBackend with 5 concurrent workers.\n",
      "[Parallel(n_jobs=5)]: Done   3 tasks      | elapsed:    0.0s\n",
      "[Parallel(n_jobs=5)]: Done   8 tasks      | elapsed:    0.0s\n",
      "[Parallel(n_jobs=5)]: Done  15 tasks      | elapsed:    0.0s\n",
      "[Parallel(n_jobs=5)]: Done  22 tasks      | elapsed:    0.0s\n",
      "[Parallel(n_jobs=5)]: Done  31 tasks      | elapsed:    0.0s\n",
      "[Parallel(n_jobs=5)]: Done  40 tasks      | elapsed:    0.0s\n",
      "[Parallel(n_jobs=5)]: Done  51 tasks      | elapsed:    0.0s\n",
      "[Parallel(n_jobs=5)]: Done  62 tasks      | elapsed:    0.0s\n",
      "[Parallel(n_jobs=5)]: Done  75 tasks      | elapsed:    0.0s\n",
      "[Parallel(n_jobs=5)]: Done  88 tasks      | elapsed:    0.0s\n",
      "[Parallel(n_jobs=5)]: Done 103 tasks      | elapsed:    0.0s\n",
      "[Parallel(n_jobs=5)]: Done 118 tasks      | elapsed:    0.0s\n",
      "[Parallel(n_jobs=5)]: Done 135 tasks      | elapsed:    0.0s\n",
      "[Parallel(n_jobs=5)]: Done 150 out of 150 | elapsed:    0.0s finished\n"
     ]
    }
   ],
   "source": [
    "y_test_pred = rf.predict(X_test)"
   ]
  },
  {
   "cell_type": "code",
   "execution_count": 256,
   "id": "44be90d6",
   "metadata": {},
   "outputs": [
    {
     "data": {
      "text/plain": [
       "Text(33.0, 0.5, 'Actual Conflicts')"
      ]
     },
     "execution_count": 256,
     "metadata": {},
     "output_type": "execute_result"
    },
    {
     "data": {
      "image/png": "[encoded data removed]",
      "text/plain": [
       "<Figure size 432x288 with 2 Axes>"
      ]
     },
     "metadata": {
      "needs_background": "light"
     },
     "output_type": "display_data"
    }
   ],
   "source": [
    "cm  = confusion_matrix(y_test, y_test_pred)\n",
    "\n",
    "ax = sns.heatmap(cm, annot=True, fmt='g', cmap=\"YlGnBu\")\n",
    "ax.set_title('ACLED Testing Data Confusion Matrix')\n",
    "ax.set_xlabel('Predicted Conflicts')\n",
    "ax.set_ylabel('Actual Conflicts')"
   ]
  },
  {
   "cell_type": "code",
   "execution_count": 257,
   "id": "a2e206c6",
   "metadata": {},
   "outputs": [
    {
     "name": "stdout",
     "output_type": "stream",
     "text": [
      "Recall Score (TEST): 0.78125\n",
      "F1 (TEST): 0.7317073170731707\n"
     ]
    }
   ],
   "source": [
    "print(\"Recall Score (TEST): \" + str(recall_score(y_test, y_test_pred)))\n",
    "print(\"F1 (TEST): \" + str(f1_score(y_test, y_test_pred)))"
   ]
  },
  {
   "cell_type": "code",
   "execution_count": 258,
   "id": "cfbbb625",
   "metadata": {},
   "outputs": [
    {
     "name": "stdout",
     "output_type": "stream",
     "text": [
      "Feature ranking:\n",
      "1. Feature: pref_attachment_8periods_prev 0.08959808644807969\n",
      "2. Feature: pref_attachment_10periods_prev 0.07697559416216347\n",
      "3. Feature: pref_attachment_12periods_prev 0.07383986248319202\n",
      "4. Feature: pref_attachment_2periods_prev 0.07109929392749408\n",
      "5. Feature: pref_attachment_7periods_prev 0.06086473374251281\n",
      "6. Feature: pref_attachment_11periods_prev 0.046827267922086926\n",
      "7. Feature: pref_attachment_5periods_prev 0.04039928508454296\n",
      "8. Feature: pref_attachment_3periods_prev 0.04001833806570783\n",
      "9. Feature: pref_attachment_6periods_prev 0.03994990194121388\n",
      "10. Feature: pref_attachment_4periods_prev 0.03859693419278863\n",
      "11. Feature: pref_attachment_9periods_prev 0.03549597560846898\n",
      "12. Feature: resource_alloc_com_8periods_prev 0.031039374660002415\n",
      "13. Feature: pref_attachment_1periods_prev 0.029228131324195078\n",
      "14. Feature: resource_alloc_com_3periods_prev 0.029134690604573615\n",
      "15. Feature: resource_alloc_com_1periods_prev 0.028095595535293012\n",
      "16. Feature: resource_alloc_com_5periods_prev 0.02434542643392243\n",
      "17. Feature: resource_alloc_com_2periods_prev 0.023687127877317686\n",
      "18. Feature: resource_alloc_com_7periods_prev 0.02028980442354434\n",
      "19. Feature: resource_alloc_com_12periods_prev 0.020172844240899313\n",
      "20. Feature: resource_alloc_com_6periods_prev 0.017955644794918315\n",
      "21. Feature: resource_alloc_com_10periods_prev 0.017422482474651235\n",
      "22. Feature: resource_alloc_com_11periods_prev 0.015407132955146747\n",
      "23. Feature: resource_alloc_com_4periods_prev 0.014694017409027971\n",
      "24. Feature: jaccard_coef_2periods_prev 0.013519148316744339\n",
      "25. Feature: resource_alloc_com_9periods_prev 0.012574699546364383\n",
      "26. Feature: jaccard_coef_3periods_prev 0.011140026215937928\n",
      "27. Feature: jaccard_coef_1periods_prev 0.010885123021493146\n",
      "28. Feature: jaccard_coef_4periods_prev 0.00970829690872788\n",
      "29. Feature: jaccard_coef_9periods_prev 0.008136886864735062\n",
      "30. Feature: jaccard_coef_10periods_prev 0.007760615082190024\n",
      "31. Feature: jaccard_coef_5periods_prev 0.007738494383071136\n",
      "32. Feature: jaccard_coef_12periods_prev 0.0076562036475280705\n",
      "33. Feature: jaccard_coef_8periods_prev 0.00733218955268131\n",
      "34. Feature: jaccard_coef_7periods_prev 0.0066502450210378355\n",
      "35. Feature: jaccard_coef_11periods_prev 0.006036214080262919\n",
      "36. Feature: jaccard_coef_6periods_prev 0.005724311047482758\n"
     ]
    }
   ],
   "source": [
    "importances = rf.feature_importances_\n",
    "indices = np.argsort(importances)[::-1]\n",
    "cols = list(X_train.columns)\n",
    "# Print the feature ranking\n",
    "print(\"Feature ranking:\")\n",
    "for f in range(X_train.shape[1]):\n",
    "    print(str(f + 1)+'. Feature: '+ cols[indices[f]] + ' '+ str(importances[indices[f]]))"
   ]
  }
 ],
 "metadata": {
  "kernelspec": {
   "display_name": "Python 3.10.4 ('CSI703')",
   "language": "python",
   "name": "python3"
  },
  "language_info": {
   "codemirror_mode": {
    "name": "ipython",
    "version": 3
   },
   "file_extension": ".py",
   "mimetype": "text/x-python",
   "name": "python",
   "nbconvert_exporter": "python",
   "pygments_lexer": "ipython3",
   "version": "3.10.4"
  },
  "vscode": {
   "interpreter": {
    "hash": "9c739e04d125daa04ec012c85045c4816dec929bef3f5943299f433e8e5a4ef6"
   }
  }
 },
 "nbformat": 4,
 "nbformat_minor": 5
}
